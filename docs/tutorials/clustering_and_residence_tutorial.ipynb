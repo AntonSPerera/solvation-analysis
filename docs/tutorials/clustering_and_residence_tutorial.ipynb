{
 "cells": [
  {
   "cell_type": "markdown",
   "metadata": {},
   "source": [
    "# Residence and Networking\n",
    "\n",
    "Solute setup is covered in detail in the `basics_tutorial` so it will not be covered here.\n",
    "\n",
    "If you are new to `solvation_analysis` check there first!"
   ]
  },
  {
   "cell_type": "code",
   "execution_count": 2,
   "metadata": {},
   "outputs": [
    {
     "name": "stderr",
     "output_type": "stream",
     "text": [
      "Warning: importing 'simtk.openmm' is deprecated.  Import 'openmm' instead.\n"
     ]
    },
    {
     "data": {
      "text/plain": "<solvation_analysis.solute.Solute at 0x7fb911050ac0>"
     },
     "execution_count": 2,
     "metadata": {},
     "output_type": "execute_result"
    }
   ],
   "source": [
    "# imports\n",
    "import MDAnalysis as mda\n",
    "from solvation_analysis.solute import Solute\n",
    "\n",
    "# define paths to data\n",
    "data = \"../solvation_analysis/tests/data/bn_fec_data/bn_fec.data\"\n",
    "traj = \"../solvation_analysis/tests/data/bn_fec_data/bn_fec_short_unwrap.dcd\"\n",
    "\n",
    "# instantiate Universe\n",
    "u = mda.Universe(data, traj)\n",
    "\n",
    "# define solute AtomGroup\n",
    "li_atoms = u.atoms.select_atoms(\"type 22\")\n",
    "\n",
    "# define solvent AtomGroups\n",
    "PF6 = u.atoms.select_atoms(\"byres type 21\")\n",
    "BN = u.atoms.select_atoms(\"byres type 5\")\n",
    "FEC = u.atoms.select_atoms(\"byres type 19\")\n",
    "\n",
    "solution = Solute.from_atoms(li_atoms, {'PF6': PF6, 'BN': BN, 'FEC': FEC}, radii={'PF6': 2.6})\n",
    "\n",
    "solution.run()"
   ]
  },
  {
   "cell_type": "markdown",
   "metadata": {
    "pycharm": {
     "name": "#%% md\n"
    }
   },
   "source": [
    "We will be covering the `Residence` and `Networking` analysis objects. These are not instantiated by default with the solution object because they can be very expensive and we wanted to keep `Solute` fast.\n",
    "\n",
    "That said, `Residence` and `Networking` are very easy to instantiate and add to your analysis when you have a `Solute`! This tutorial covers that process and outlines the key features that these objects offer.\n",
    "\n",
    "We'll start with `Residence`. We can use the very convenient `from_solution` object to instantiate this."
   ]
  },
  {
   "cell_type": "code",
   "execution_count": 3,
   "metadata": {},
   "outputs": [
    {
     "name": "stderr",
     "output_type": "stream",
     "text": [
      "/Users/orioncohen/miniconda3/envs/solvation_analysis/lib/python3.8/site-packages/pandas/core/apply.py:131: FutureWarning: the 'unbiased'' keyword is deprecated, use 'adjusted' instead\n",
      "  return func(x, *args, **kwargs)\n",
      "/Users/orioncohen/projects/development/solvation-analysis/solvation-analysis/solvation_analysis/residence.py:147: UserWarning: the autocovariance for BN does not converge to zero so a residence time cannot be calculated. A longer simulation is required to get a valid estimate of the residence time.\n",
      "  warnings.warn(f'the autocovariance for {res_name} does not converge to zero '\n",
      "/Users/orioncohen/projects/development/solvation-analysis/solvation-analysis/solvation_analysis/residence.py:147: UserWarning: the autocovariance for FEC does not converge to zero so a residence time cannot be calculated. A longer simulation is required to get a valid estimate of the residence time.\n",
      "  warnings.warn(f'the autocovariance for {res_name} does not converge to zero '\n",
      "/Users/orioncohen/projects/development/solvation-analysis/solvation-analysis/solvation_analysis/residence.py:147: UserWarning: the autocovariance for PF6 does not converge to zero so a residence time cannot be calculated. A longer simulation is required to get a valid estimate of the residence time.\n",
      "  warnings.warn(f'the autocovariance for {res_name} does not converge to zero '\n"
     ]
    }
   ],
   "source": [
    "from solvation_analysis.residence import Residence\n",
    "\n",
    "residence = Residence.from_solute(solution)"
   ]
  },
  {
   "cell_type": "markdown",
   "metadata": {},
   "source": [
    "Because we are only looking at a very short snapshot of the simulation, the residence times here are NOT physically meaningful. That's why we get so many warnings. For the sake of the tutorial, let's imagine that we had a long enough simulation to get meaningful results.\n",
    "\n",
    "Residence automatically calculates the residence times of all the solvents in two ways, with the cutoff method or the fit method. The documentation of Residence has more detail, but in brief, fit is more accurate and cutoff is less prone to convergence issues."
   ]
  },
  {
   "cell_type": "code",
   "execution_count": 4,
   "metadata": {},
   "outputs": [
    {
     "name": "stdout",
     "output_type": "stream",
     "text": [
      "The cutoff residence times are:  {'BN': nan, 'FEC': 6, 'PF6': 9}\n",
      "The fit residence times are:     {'BN': 4.63, 'FEC': 2.88, 'PF6': 1.15}\n"
     ]
    }
   ],
   "source": [
    "print(\"The cutoff residence times are: \", residence.residence_times_cutoff)\n",
    "print(\"The fit residence times are:    \", residence.residence_times_fit)"
   ]
  },
  {
   "cell_type": "markdown",
   "metadata": {},
   "source": [
    "We have two methods for binding the `Residence` object to our `Solute` object. We can either \"monkey patch\" the residence object directly into `Solute`."
   ]
  },
  {
   "cell_type": "code",
   "execution_count": 5,
   "metadata": {},
   "outputs": [
    {
     "data": {
      "text/plain": "<solvation_analysis.residence.Residence at 0x7fb8f035c370>"
     },
     "execution_count": 5,
     "metadata": {},
     "output_type": "execute_result"
    }
   ],
   "source": [
    "solution.residence = residence\n",
    "solution.residence"
   ]
  },
  {
   "cell_type": "markdown",
   "source": [
    "Or we can instantiate our Solute with the Residence object included, this is not done by default because Residence can be quite expensive to create.\n",
    "\n",
    "This approach to instatiating analyis classes with `from_solution` or specifying them in the `analysis_classes` keyword applies to all the analysis classes in `solvation-analyis`,."
   ],
   "metadata": {
    "collapsed": false,
    "pycharm": {
     "name": "#%% md\n"
    }
   }
  },
  {
   "cell_type": "code",
   "execution_count": 6,
   "outputs": [
    {
     "data": {
      "text/plain": "<solvation_analysis.solute.Solute at 0x7fb8f035c610>"
     },
     "execution_count": 6,
     "metadata": {},
     "output_type": "execute_result"
    }
   ],
   "source": [
    "solution = Solute.from_atoms(\n",
    "    li_atoms,\n",
    "    {'PF6': PF6, 'BN': BN, 'FEC': FEC},\n",
    "    radii={'PF6': 2.6},\n",
    "    analysis_classes=[\"pairing\", \"coordination\", \"speciation\", \"residence\"],\n",
    ")\n",
    "solution.run()"
   ],
   "metadata": {
    "collapsed": false,
    "pycharm": {
     "name": "#%%\n"
    }
   }
  },
  {
   "cell_type": "markdown",
   "metadata": {},
   "source": [
    "Networking follows an identical setup pattern but for the networking object, we need to specify which solvents we want to participate in the network. For example, we might be interest in a network of cations and anions in a battery electrolyte. It wouldn't make sense to include the solvents in the network, so we can choose to only look at networking with the anion, which is what we do here."
   ]
  },
  {
   "cell_type": "code",
   "execution_count": 7,
   "metadata": {},
   "outputs": [],
   "source": [
    "from solvation_analysis.networking import Networking\n",
    "\n",
    "networking = Networking.from_solute(solution, 'PF6')"
   ]
  },
  {
   "cell_type": "markdown",
   "metadata": {},
   "source": [
    "Now that we have the network, lets examine the core data structure of the `Networking` object."
   ]
  },
  {
   "cell_type": "code",
   "execution_count": 8,
   "metadata": {},
   "outputs": [
    {
     "data": {
      "text/plain": "                solvent solvent_ix\nframe network                     \n0     0             PF6        603\n      0        solute_0        683\n      0        solute_0        690\n      1             PF6        616\n      1        solute_0        670\n...                 ...        ...\n9     1        solute_0        693\n      2             PF6        623\n      2        solute_0        664\n      3             PF6        648\n      3        solute_0        668\n\n[112 rows x 2 columns]",
      "text/html": "<div>\n<style scoped>\n    .dataframe tbody tr th:only-of-type {\n        vertical-align: middle;\n    }\n\n    .dataframe tbody tr th {\n        vertical-align: top;\n    }\n\n    .dataframe thead th {\n        text-align: right;\n    }\n</style>\n<table border=\"1\" class=\"dataframe\">\n  <thead>\n    <tr style=\"text-align: right;\">\n      <th></th>\n      <th></th>\n      <th>solvent</th>\n      <th>solvent_ix</th>\n    </tr>\n    <tr>\n      <th>frame</th>\n      <th>network</th>\n      <th></th>\n      <th></th>\n    </tr>\n  </thead>\n  <tbody>\n    <tr>\n      <th rowspan=\"5\" valign=\"top\">0</th>\n      <th>0</th>\n      <td>PF6</td>\n      <td>603</td>\n    </tr>\n    <tr>\n      <th>0</th>\n      <td>solute_0</td>\n      <td>683</td>\n    </tr>\n    <tr>\n      <th>0</th>\n      <td>solute_0</td>\n      <td>690</td>\n    </tr>\n    <tr>\n      <th>1</th>\n      <td>PF6</td>\n      <td>616</td>\n    </tr>\n    <tr>\n      <th>1</th>\n      <td>solute_0</td>\n      <td>670</td>\n    </tr>\n    <tr>\n      <th>...</th>\n      <th>...</th>\n      <td>...</td>\n      <td>...</td>\n    </tr>\n    <tr>\n      <th rowspan=\"5\" valign=\"top\">9</th>\n      <th>1</th>\n      <td>solute_0</td>\n      <td>693</td>\n    </tr>\n    <tr>\n      <th>2</th>\n      <td>PF6</td>\n      <td>623</td>\n    </tr>\n    <tr>\n      <th>2</th>\n      <td>solute_0</td>\n      <td>664</td>\n    </tr>\n    <tr>\n      <th>3</th>\n      <td>PF6</td>\n      <td>648</td>\n    </tr>\n    <tr>\n      <th>3</th>\n      <td>solute_0</td>\n      <td>668</td>\n    </tr>\n  </tbody>\n</table>\n<p>112 rows × 2 columns</p>\n</div>"
     },
     "execution_count": 8,
     "metadata": {},
     "output_type": "execute_result"
    }
   ],
   "source": [
    "networking.network_df"
   ]
  },
  {
   "cell_type": "markdown",
   "metadata": {},
   "source": [
    "The `network_df` includes all of the solutes coordinated with at least one solvent, if these coordinated solvents form a network, they are grouped together into a single item in the `network` column of the dataframe.\n",
    "\n",
    "Here, we can see that in frame 0, our 0th network has two solutes and one PF6 solvent and our 1st network has one solute and one solvent.\n",
    "\n",
    "The second column lists the residue indexes (from the MDAnalysis Universe) of each listed species.\n",
    "\n",
    "`Networking` also calculates several convenient statistics, such as the clusters size distribution:"
   ]
  },
  {
   "cell_type": "code",
   "execution_count": 9,
   "metadata": {},
   "outputs": [
    {
     "data": {
      "text/plain": "solvent  2  3\nframe        \n0        4  2\n1        4  1\n2        5  1\n3        6  0\n4        6  0\n5        3  0\n6        5  0\n7        7  0\n8        4  1\n9        3  1",
      "text/html": "<div>\n<style scoped>\n    .dataframe tbody tr th:only-of-type {\n        vertical-align: middle;\n    }\n\n    .dataframe tbody tr th {\n        vertical-align: top;\n    }\n\n    .dataframe thead th {\n        text-align: right;\n    }\n</style>\n<table border=\"1\" class=\"dataframe\">\n  <thead>\n    <tr style=\"text-align: right;\">\n      <th>solvent</th>\n      <th>2</th>\n      <th>3</th>\n    </tr>\n    <tr>\n      <th>frame</th>\n      <th></th>\n      <th></th>\n    </tr>\n  </thead>\n  <tbody>\n    <tr>\n      <th>0</th>\n      <td>4</td>\n      <td>2</td>\n    </tr>\n    <tr>\n      <th>1</th>\n      <td>4</td>\n      <td>1</td>\n    </tr>\n    <tr>\n      <th>2</th>\n      <td>5</td>\n      <td>1</td>\n    </tr>\n    <tr>\n      <th>3</th>\n      <td>6</td>\n      <td>0</td>\n    </tr>\n    <tr>\n      <th>4</th>\n      <td>6</td>\n      <td>0</td>\n    </tr>\n    <tr>\n      <th>5</th>\n      <td>3</td>\n      <td>0</td>\n    </tr>\n    <tr>\n      <th>6</th>\n      <td>5</td>\n      <td>0</td>\n    </tr>\n    <tr>\n      <th>7</th>\n      <td>7</td>\n      <td>0</td>\n    </tr>\n    <tr>\n      <th>8</th>\n      <td>4</td>\n      <td>1</td>\n    </tr>\n    <tr>\n      <th>9</th>\n      <td>3</td>\n      <td>1</td>\n    </tr>\n  </tbody>\n</table>\n</div>"
     },
     "execution_count": 9,
     "metadata": {},
     "output_type": "execute_result"
    }
   ],
   "source": [
    "networking.network_sizes"
   ]
  },
  {
   "cell_type": "markdown",
   "metadata": {},
   "source": [
    "and the \"solute status\", or whether the solute is uncoordinated, coordinated with a single solvent, or in a network."
   ]
  },
  {
   "cell_type": "code",
   "execution_count": 10,
   "metadata": {},
   "outputs": [
    {
     "data": {
      "text/plain": "{'isolated': 0.8918367346938776,\n 'paired': 0.09591836734693877,\n 'networked': 0.012244897959183671}"
     },
     "execution_count": 10,
     "metadata": {},
     "output_type": "execute_result"
    }
   ],
   "source": [
    "networking.solute_status"
   ]
  },
  {
   "cell_type": "markdown",
   "source": [
    "As before, we can instantiate a `Networking` object in the solution directly, but this time, we'll need to specify the solvent(s) of interest in the `networking_solvents` kwarg."
   ],
   "metadata": {
    "collapsed": false,
    "pycharm": {
     "name": "#%% md\n"
    }
   }
  },
  {
   "cell_type": "code",
   "execution_count": 12,
   "outputs": [
    {
     "data": {
      "text/plain": "<solvation_analysis.solute.Solute at 0x7fb9116d71c0>"
     },
     "execution_count": 12,
     "metadata": {},
     "output_type": "execute_result"
    }
   ],
   "source": [
    "solution = Solute.from_atoms(\n",
    "    li_atoms,\n",
    "    {'PF6': PF6, 'BN': BN, 'FEC': FEC},\n",
    "    radii={'PF6': 2.6},\n",
    "    analysis_classes=[\"pairing\", \"coordination\", \"speciation\", \"networking\"],\n",
    "    networking_solvents='PF6'\n",
    ")\n",
    "solution.run()"
   ],
   "metadata": {
    "collapsed": false,
    "pycharm": {
     "name": "#%%\n"
    }
   }
  },
  {
   "cell_type": "markdown",
   "metadata": {},
   "source": [
    "Finally, we can effectively integrate the networking object into a visualization workflow by returning the residue indexes of a specific cluster and using them to select the atoms in the cluster.\n",
    "\n",
    "For this, we'll need to quickly spin up a different solution to use as an example."
   ]
  },
  {
   "cell_type": "code",
   "execution_count": 29,
   "metadata": {},
   "outputs": [
    {
     "data": {
      "text/plain": "<solvation_analysis.solute.Solute at 0x7fb8f17f69d0>"
     },
     "execution_count": 29,
     "metadata": {},
     "output_type": "execute_result"
    }
   ],
   "source": [
    "from solvation_analysis.tests import datafiles\n",
    "\n",
    "# instantiate Universe\n",
    "u = mda.Universe(datafiles.ea_fec_pdb, datafiles.ea_fec_dcd)\n",
    "\n",
    "# define solute AtomGroup\n",
    "li_atoms = u.atoms.select_atoms(\"element Li\")\n",
    "\n",
    "# define solvent AtomGroups\n",
    "EA = u.residues[0:235].atoms                    # ethyl acetate\n",
    "FEC = u.residues[235:600].atoms                 # fluorinated ethylene carbonate\n",
    "PF6 = u.atoms.select_atoms(\"byres element P\")   # hexafluorophosphate\n",
    "\n",
    "# instantiate solution\n",
    "solution2 = Solute.from_atoms(\n",
    "    li_atoms,\n",
    "    {'EA': EA, 'FEC': FEC, 'PF6': PF6},\n",
    "    radii={'PF6': 2.6, 'FEC': 2.7},\n",
    "    solute_name=\"Li\",\n",
    "    analysis_classes=[\"pairing\", \"coordination\", \"speciation\", \"networking\"],\n",
    "    networking_solvents=['PF6', 'FEC']\n",
    ")\n",
    "\n",
    "solution2.run()"
   ]
  },
  {
   "cell_type": "markdown",
   "source": [
    "For the sake of getting a nice big cluster to visualize, we made the networking solvents both PF6 and FEC, this isn't a particularly interesting visualization scientifically, but it's nicer to look at!"
   ],
   "metadata": {
    "collapsed": false,
    "pycharm": {
     "name": "#%% md\n"
    }
   }
  },
  {
   "cell_type": "code",
   "execution_count": 30,
   "metadata": {},
   "outputs": [
    {
     "data": {
      "text/plain": "              solvent solvent_ix\nframe network                   \n0     0           FEC        236\n      0           FEC        245\n      0            Li        653\n      1           FEC        238\n      1            Li        603\n      2           FEC        239\n      2           FEC        241\n      2           FEC        533\n      2            Li        660\n      3           FEC        242\n      3            Li        639\n      4           FEC        243\n      4           FEC        494\n      4            Li        635\n      5           FEC        244\n      5           FEC        413\n      5           FEC        580\n      5            Li        609\n      6           FEC        247\n      6           FEC        264\n      6           FEC        274\n      6           FEC        381\n      6           FEC        523\n      6           FEC        540\n      6           FEC        541\n      6           FEC        573\n      6            Li        612\n      6            Li        631\n      6            Li        658\n      7           FEC        248\n      7           FEC        306\n      7           FEC        460\n      7            Li        627\n      8           FEC        249\n      8           FEC        496\n      8           FEC        596\n      8            Li        622\n      9           FEC        261\n      9           FEC        399\n      9            Li        654\n      10          FEC        263\n      10          FEC        463\n      10           Li        611\n      11          FEC        266\n      11          FEC        510\n      11          FEC        517\n      11           Li        624\n      12          FEC        270\n      12          FEC        375\n      12          FEC        409",
      "text/html": "<div>\n<style scoped>\n    .dataframe tbody tr th:only-of-type {\n        vertical-align: middle;\n    }\n\n    .dataframe tbody tr th {\n        vertical-align: top;\n    }\n\n    .dataframe thead th {\n        text-align: right;\n    }\n</style>\n<table border=\"1\" class=\"dataframe\">\n  <thead>\n    <tr style=\"text-align: right;\">\n      <th></th>\n      <th></th>\n      <th>solvent</th>\n      <th>solvent_ix</th>\n    </tr>\n    <tr>\n      <th>frame</th>\n      <th>network</th>\n      <th></th>\n      <th></th>\n    </tr>\n  </thead>\n  <tbody>\n    <tr>\n      <th rowspan=\"50\" valign=\"top\">0</th>\n      <th>0</th>\n      <td>FEC</td>\n      <td>236</td>\n    </tr>\n    <tr>\n      <th>0</th>\n      <td>FEC</td>\n      <td>245</td>\n    </tr>\n    <tr>\n      <th>0</th>\n      <td>Li</td>\n      <td>653</td>\n    </tr>\n    <tr>\n      <th>1</th>\n      <td>FEC</td>\n      <td>238</td>\n    </tr>\n    <tr>\n      <th>1</th>\n      <td>Li</td>\n      <td>603</td>\n    </tr>\n    <tr>\n      <th>2</th>\n      <td>FEC</td>\n      <td>239</td>\n    </tr>\n    <tr>\n      <th>2</th>\n      <td>FEC</td>\n      <td>241</td>\n    </tr>\n    <tr>\n      <th>2</th>\n      <td>FEC</td>\n      <td>533</td>\n    </tr>\n    <tr>\n      <th>2</th>\n      <td>Li</td>\n      <td>660</td>\n    </tr>\n    <tr>\n      <th>3</th>\n      <td>FEC</td>\n      <td>242</td>\n    </tr>\n    <tr>\n      <th>3</th>\n      <td>Li</td>\n      <td>639</td>\n    </tr>\n    <tr>\n      <th>4</th>\n      <td>FEC</td>\n      <td>243</td>\n    </tr>\n    <tr>\n      <th>4</th>\n      <td>FEC</td>\n      <td>494</td>\n    </tr>\n    <tr>\n      <th>4</th>\n      <td>Li</td>\n      <td>635</td>\n    </tr>\n    <tr>\n      <th>5</th>\n      <td>FEC</td>\n      <td>244</td>\n    </tr>\n    <tr>\n      <th>5</th>\n      <td>FEC</td>\n      <td>413</td>\n    </tr>\n    <tr>\n      <th>5</th>\n      <td>FEC</td>\n      <td>580</td>\n    </tr>\n    <tr>\n      <th>5</th>\n      <td>Li</td>\n      <td>609</td>\n    </tr>\n    <tr>\n      <th>6</th>\n      <td>FEC</td>\n      <td>247</td>\n    </tr>\n    <tr>\n      <th>6</th>\n      <td>FEC</td>\n      <td>264</td>\n    </tr>\n    <tr>\n      <th>6</th>\n      <td>FEC</td>\n      <td>274</td>\n    </tr>\n    <tr>\n      <th>6</th>\n      <td>FEC</td>\n      <td>381</td>\n    </tr>\n    <tr>\n      <th>6</th>\n      <td>FEC</td>\n      <td>523</td>\n    </tr>\n    <tr>\n      <th>6</th>\n      <td>FEC</td>\n      <td>540</td>\n    </tr>\n    <tr>\n      <th>6</th>\n      <td>FEC</td>\n      <td>541</td>\n    </tr>\n    <tr>\n      <th>6</th>\n      <td>FEC</td>\n      <td>573</td>\n    </tr>\n    <tr>\n      <th>6</th>\n      <td>Li</td>\n      <td>612</td>\n    </tr>\n    <tr>\n      <th>6</th>\n      <td>Li</td>\n      <td>631</td>\n    </tr>\n    <tr>\n      <th>6</th>\n      <td>Li</td>\n      <td>658</td>\n    </tr>\n    <tr>\n      <th>7</th>\n      <td>FEC</td>\n      <td>248</td>\n    </tr>\n    <tr>\n      <th>7</th>\n      <td>FEC</td>\n      <td>306</td>\n    </tr>\n    <tr>\n      <th>7</th>\n      <td>FEC</td>\n      <td>460</td>\n    </tr>\n    <tr>\n      <th>7</th>\n      <td>Li</td>\n      <td>627</td>\n    </tr>\n    <tr>\n      <th>8</th>\n      <td>FEC</td>\n      <td>249</td>\n    </tr>\n    <tr>\n      <th>8</th>\n      <td>FEC</td>\n      <td>496</td>\n    </tr>\n    <tr>\n      <th>8</th>\n      <td>FEC</td>\n      <td>596</td>\n    </tr>\n    <tr>\n      <th>8</th>\n      <td>Li</td>\n      <td>622</td>\n    </tr>\n    <tr>\n      <th>9</th>\n      <td>FEC</td>\n      <td>261</td>\n    </tr>\n    <tr>\n      <th>9</th>\n      <td>FEC</td>\n      <td>399</td>\n    </tr>\n    <tr>\n      <th>9</th>\n      <td>Li</td>\n      <td>654</td>\n    </tr>\n    <tr>\n      <th>10</th>\n      <td>FEC</td>\n      <td>263</td>\n    </tr>\n    <tr>\n      <th>10</th>\n      <td>FEC</td>\n      <td>463</td>\n    </tr>\n    <tr>\n      <th>10</th>\n      <td>Li</td>\n      <td>611</td>\n    </tr>\n    <tr>\n      <th>11</th>\n      <td>FEC</td>\n      <td>266</td>\n    </tr>\n    <tr>\n      <th>11</th>\n      <td>FEC</td>\n      <td>510</td>\n    </tr>\n    <tr>\n      <th>11</th>\n      <td>FEC</td>\n      <td>517</td>\n    </tr>\n    <tr>\n      <th>11</th>\n      <td>Li</td>\n      <td>624</td>\n    </tr>\n    <tr>\n      <th>12</th>\n      <td>FEC</td>\n      <td>270</td>\n    </tr>\n    <tr>\n      <th>12</th>\n      <td>FEC</td>\n      <td>375</td>\n    </tr>\n    <tr>\n      <th>12</th>\n      <td>FEC</td>\n      <td>409</td>\n    </tr>\n  </tbody>\n</table>\n</div>"
     },
     "execution_count": 30,
     "metadata": {},
     "output_type": "execute_result"
    }
   ],
   "source": [
    "networking = solution2.networking\n",
    "networking.network_df[0:50]"
   ]
  },
  {
   "cell_type": "code",
   "execution_count": 31,
   "metadata": {
    "scrolled": true,
    "pycharm": {
     "name": "#%%\n"
    }
   },
   "outputs": [
    {
     "data": {
      "text/plain": "NGLWidget(max_frame=9)",
      "application/vnd.jupyter.widget-view+json": {
       "version_major": 2,
       "version_minor": 0,
       "model_id": "7a2c82bba8644c7781a309be456388ba"
      }
     },
     "metadata": {},
     "output_type": "display_data"
    }
   ],
   "source": [
    "# import nglview\n",
    "import nglview as nv\n",
    "\n",
    "def visualize(atom_group):\n",
    "    mda_view = nv.show_mdanalysis(atom_group)\n",
    "    return mda_view.display()\n",
    "\n",
    "res_ix = networking.get_network_res_ix(6, 0)\n",
    "network = solution2.u.residues[res_ix.astype(int)].atoms\n",
    "\n",
    "visualize(network)"
   ]
  }
 ],
 "metadata": {
  "kernelspec": {
   "display_name": "solvation_analysis",
   "language": "python",
   "name": "solvation_analysis"
  },
  "language_info": {
   "codemirror_mode": {
    "name": "ipython",
    "version": 3
   },
   "file_extension": ".py",
   "mimetype": "text/x-python",
   "name": "python",
   "nbconvert_exporter": "python",
   "pygments_lexer": "ipython3",
   "version": "3.8.12"
  }
 },
 "nbformat": 4,
 "nbformat_minor": 1
}