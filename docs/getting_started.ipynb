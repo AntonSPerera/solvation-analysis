{
 "cells": [
  {
   "cell_type": "markdown",
   "metadata": {
    "collapsed": true
   },
   "source": [
    "## Getting Started\n",
    "\n",
    "Solvation analysis makes it easy to rapidly analyze coordination, species-species pairing, and speciation. While solvation analysis is designed with molecular (and especially ionic) systems in mind, it’s methods should be extensible to any system where a solute is dissolved in solvents.\n",
    "\n",
    "Get started with solvation_analysis by working through the basics_tutorial.ipynb Jupyter notebook which can be found in the tutorials section of the GitHub. The tutorial introduces the basic functionality and usage of the solvation_analysis package."
   ]
  },
  {
   "cell_type": "code",
   "execution_count": null,
   "outputs": [],
   "source": [
    "# TODO: add some basics information and a brief example here"
   ],
   "metadata": {
    "collapsed": false
   }
  }
 ],
 "metadata": {
  "kernelspec": {
   "name": "solvation_analysis",
   "language": "python",
   "display_name": "solvation_analysis"
  },
  "language_info": {
   "codemirror_mode": {
    "name": "ipython",
    "version": 2
   },
   "file_extension": ".py",
   "mimetype": "text/x-python",
   "name": "python",
   "nbconvert_exporter": "python",
   "pygments_lexer": "ipython2",
   "version": "2.7.6"
  }
 },
 "nbformat": 4,
 "nbformat_minor": 0
}
