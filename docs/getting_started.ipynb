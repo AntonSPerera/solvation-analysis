{
 "cells": [
  {
   "cell_type": "markdown",
   "metadata": {
    "collapsed": true
   },
   "source": [
    "## Getting Started\n",
    "\n",
    "Solvation analysis makes it easy to rapidly understand the coordination, pairing, speciation, networking, and residence of solutes in a solution. Solvation analysis is built on top of [MDAnalysis](https://www.mdanalysis.org/) so some familiarity with that package is needed for best use.\n",
    "\n",
    "It is recommended that you start with the tutorials, which walk through the basic usage of solvation-analysis and most of the features.\n",
    "\n",
    "Tutorials:\n",
    "- The Basics: create and analyze a `Solute`\n",
    "- Multi Atom Solutes: generalize to solutes with many atoms\n",
    "- Visualization: use `nglview` to visualize structures\n",
    "- Residence and Networking: calculate residence times and solute-solvent networks\n",
    "- RDF Fitting: See how solvation-analysis finds solvation cutoffs\n",
    "\n",
    "For a full catalog of the properties calculated, read through the API documentation. Solvation-analysis is a powerful tool that calculates a wide range of properties, it will take some time to master. If you ever have any questions, or encounter any bugs, please raise an issue on [GitHub](https://github.com/MDAnalysis/solvation-analysis).\n"
   ]
  }
 ],
 "metadata": {
  "kernelspec": {
   "name": "solvation_analysis",
   "language": "python",
   "display_name": "solvation_analysis"
  },
  "language_info": {
   "codemirror_mode": {
    "name": "ipython",
    "version": 2
   },
   "file_extension": ".py",
   "mimetype": "text/x-python",
   "name": "python",
   "nbconvert_exporter": "python",
   "pygments_lexer": "ipython2",
   "version": "2.7.6"
  }
 },
 "nbformat": 4,
 "nbformat_minor": 0
}
