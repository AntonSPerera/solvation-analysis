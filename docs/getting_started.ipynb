{
 "cells": [
  {
   "cell_type": "markdown",
   "metadata": {
    "collapsed": true,
    "pycharm": {
     "name": "#%% md\n"
    }
   },
   "source": [
    "# Getting Started\n",
    "\n",
    "Solvation analysis makes it easy to rapidly analyze coordination, species-species pairing,\n",
    "and speciation. While solvation analysis is designed with molecular (and especially ionic)\n",
    "systems in mind, it's methods should be extensible to any system where a solute is\n",
    "dissolved in solvents.\n",
    "\n",
    "Get started with solvation_analysis by working through the basics_tutorial.ipynb\n",
    "Jupyter notebook which can be found in the tutorials section of the\n",
    "`GitHub <https://github.com/MDAnalysis/solvation-analysis>`_. The tutorial\n",
    "introduces the basic functionality and usage of the solvation_analysis package.\n"
   ]
  },
  {
   "cell_type": "code",
   "execution_count": null,
   "outputs": [],
   "source": [],
   "metadata": {
    "collapsed": false,
    "pycharm": {
     "name": "#%%\n"
    }
   }
  }
 ],
 "metadata": {
  "kernelspec": {
   "display_name": "Python 3",
   "language": "python",
   "name": "python3"
  },
  "language_info": {
   "codemirror_mode": {
    "name": "ipython",
    "version": 2
   },
   "file_extension": ".py",
   "mimetype": "text/x-python",
   "name": "python",
   "nbconvert_exporter": "python",
   "pygments_lexer": "ipython2",
   "version": "2.7.6"
  }
 },
 "nbformat": 4,
 "nbformat_minor": 0
}