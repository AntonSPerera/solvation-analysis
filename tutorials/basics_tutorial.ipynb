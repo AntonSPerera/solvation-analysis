{
 "cells": [
  {
   "cell_type": "markdown",
   "id": "d1b6a33e-1aa1-42b0-9d91-6e7bba3f228f",
   "metadata": {},
   "source": [
    "# Introduction\n",
    "\n",
    "This tutorial will introduce the basic functionality and usage of MDAnalysis. It will focus on analyzing a Lithium-ion battery electrolyte composed of 49 Li<sup>+</sup>, 49 PF<sub>6</sub><sup>-</sup>, 363 Butyro Nitride, and 237 Ethylene Carbonate.\n",
    "\n",
    "If you are unfamiliar with the MDAnalysis Universe and AtomGroup, you should check out the tutorial [here]{https://www.mdanalysis.org/MDAnalysisTutorial/basics.html#}. This tutorial will assume a basic familiarity with those data structures."
   ]
  },
  {
   "cell_type": "markdown",
   "id": "2067c1b3-85d1-4951-9b14-a5daea1642f9",
   "metadata": {},
   "source": [
    "## Creating a Solution\n",
    "\n",
    "\n",
    "First, we import solvation_analysis and MDA and instantiate a universe object. "
   ]
  },
  {
   "cell_type": "code",
   "execution_count": 1,
   "id": "52522e0f-a2c4-4802-9350-6afb3e33036e",
   "metadata": {},
   "outputs": [],
   "source": [
    "# imports\n",
    "import MDAnalysis as mda\n",
    "import solvation_analysis\n",
    "\n",
    "\n",
    "# we can use a test trajectory supplied with the package\n",
    "from solvation_analysis.tests import datafiles\n",
    "\n",
    "# instantiate Universe\n",
    "u = mda.Universe(datafiles.bn_fec_data, datafiles.bn_fec_dcd_wrap)"
   ]
  },
  {
   "cell_type": "markdown",
   "id": "7dc41644-0b2f-4d81-a9e2-32b182f280b5",
   "metadata": {},
   "source": [
    "Second, we need to select the AtomGroups for the solute and solvents that will compose the solution. In this tutorial, I am selecting the relevant AtomGroups by the Atom types but you can select the AtomGroups in any way you like. Generally, solvation_analysis will work best when 1) the solute and solvents are disjoint sets and 2) the set of solvents includes all atoms that are not the solute."
   ]
  },
  {
   "cell_type": "code",
   "execution_count": 2,
   "id": "026c729e-eeb6-4f90-8785-fb38a79810d4",
   "metadata": {},
   "outputs": [],
   "source": [
    "# define solute AtomGroup\n",
    "li_atoms = u.atoms.select_atoms(\"type 22\")\n",
    "\n",
    "# define solvent AtomGroups\n",
    "PF6 = u.atoms.select_atoms(\"byres type 21\")\n",
    "BN = u.atoms.select_atoms(\"byres type 5\")\n",
    "FEC = u.atoms.select_atoms(\"byres type 19\")"
   ]
  },
  {
   "cell_type": "markdown",
   "id": "71854641-81a4-4d3e-bd6e-aa55e47198a4",
   "metadata": {},
   "source": [
    "Finally, we can instantiate the Solution from the solute and solvents! The solvents are supplied with a dict of {str: AtomGroups}. The strings should be the names of the solvents or some other convenient identifier because Solution will use this to identify the solvent in all future analysis."
   ]
  },
  {
   "cell_type": "code",
   "execution_count": 3,
   "id": "03ec0dce-8887-471b-8aa3-d3635a5336ed",
   "metadata": {},
   "outputs": [],
   "source": [
    "# instantiate solution\n",
    "from solvation_analysis.solution import Solution\n",
    "\n",
    "solution = Solution(li_atoms, {'PF6': PF6, 'BN': BN, 'FEC': FEC})"
   ]
  },
  {
   "cell_type": "markdown",
   "id": "b318d459-615e-4920-9875-8ce38a80526d",
   "metadata": {
    "tags": []
   },
   "source": [
    "We can see that solution now contains our atoms of interest as attributes:"
   ]
  },
  {
   "cell_type": "code",
   "execution_count": 4,
   "id": "e515cc9f-435a-4318-9092-69b9d90fd601",
   "metadata": {},
   "outputs": [
    {
     "name": "stdout",
     "output_type": "stream",
     "text": [
      "<AtomGroup [<Atom 6734: of type 22 resid 651 and segid SYSTEM>, <Atom 6742: of type 22 resid 652 and segid SYSTEM>, <Atom 6750: of type 22 resid 653 and segid SYSTEM>, ..., <Atom 7102: of type 22 resid 697 and segid SYSTEM>, <Atom 7110: of type 22 resid 698 and segid SYSTEM>, <Atom 7118: of type 22 resid 699 and segid SYSTEM>]>\n",
      "<AtomGroup [<Atom 1: of type 1 resid 1 and segid SYSTEM>, <Atom 2: of type 2 resid 1 and segid SYSTEM>, <Atom 3: of type 3 resid 1 and segid SYSTEM>, ..., <Atom 4354: of type 10 resid 363 and segid SYSTEM>, <Atom 4355: of type 11 resid 363 and segid SYSTEM>, <Atom 4356: of type 12 resid 363 and segid SYSTEM>]>\n"
     ]
    }
   ],
   "source": [
    "print(solution.solute)\n",
    "print(solution.solvents['BN'])"
   ]
  },
  {
   "cell_type": "markdown",
   "id": "0f2ca114-4e12-49bd-885f-1c11357c3e59",
   "metadata": {},
   "source": [
    "## Running and Validating a Solution\n",
    "\n",
    "Now that we have a solution, we can run the analysis! This follows the typical MDA analysis interface of calling `analysis.run()`. When `run` is called, a few things happen:\n",
    "\n",
    "\n",
    "First, Solution calculates the RDF between the solute and each solvent and\n",
    "uses it to identify the radius of the first solvation shell.\n",
    "\n",
    "Second, Solution finds all atoms in the first solvation shell, using\n",
    "the cutoff radii for each solvent. This analysis is repeated for each solute at every frame in the\n",
    "analysis and the data is compiled into a pandas.DataFrame.\n",
    "\n",
    "Finally, Solution instantiates Speciation, Coordination, and Pairing\n",
    "objects from the solvation_data, providing a convenient interface for\n",
    "further analysis. These will be discussed later in the tutorial.\n",
    "\n",
    "Now let's do it!"
   ]
  },
  {
   "cell_type": "code",
   "execution_count": 5,
   "id": "928e706d-7206-404f-b1ba-41a3897fd194",
   "metadata": {
    "tags": []
   },
   "outputs": [
    {
     "name": "stderr",
     "output_type": "stream",
     "text": [
      "/Users/hugo/opt/anaconda3/envs/solvation-analysis/lib/python3.8/site-packages/solvation_analysis/rdf_parser.py:159: UserWarning: No solvation shell detected.\n",
      "  warnings.warn(\"No solvation shell detected.\")\n"
     ]
    },
    {
     "ename": "AssertionError",
     "evalue": "Solution could not identify a solvation radius for PF6. Please manually enter missing radii by editing the radii dict and rerun the analysis.",
     "output_type": "error",
     "traceback": [
      "\u001b[0;31m---------------------------------------------------------------------------\u001b[0m",
      "\u001b[0;31mAssertionError\u001b[0m                            Traceback (most recent call last)",
      "Input \u001b[0;32mIn [5]\u001b[0m, in \u001b[0;36m<module>\u001b[0;34m\u001b[0m\n\u001b[1;32m      1\u001b[0m \u001b[38;5;66;03m# run analysis\u001b[39;00m\n\u001b[0;32m----> 2\u001b[0m \u001b[43msolution\u001b[49m\u001b[38;5;241;43m.\u001b[39;49m\u001b[43mrun\u001b[49m\u001b[43m(\u001b[49m\u001b[43m)\u001b[49m\n",
      "File \u001b[0;32m~/opt/anaconda3/envs/solvation-analysis/lib/python3.8/site-packages/MDAnalysis/analysis/base.py:294\u001b[0m, in \u001b[0;36mAnalysisBase.run\u001b[0;34m(self, start, stop, step, verbose)\u001b[0m\n\u001b[1;32m    292\u001b[0m \u001b[38;5;28mself\u001b[39m\u001b[38;5;241m.\u001b[39m_setup_frames(\u001b[38;5;28mself\u001b[39m\u001b[38;5;241m.\u001b[39m_trajectory, start, stop, step)\n\u001b[1;32m    293\u001b[0m logger\u001b[38;5;241m.\u001b[39minfo(\u001b[38;5;124m\"\u001b[39m\u001b[38;5;124mStarting preparation\u001b[39m\u001b[38;5;124m\"\u001b[39m)\n\u001b[0;32m--> 294\u001b[0m \u001b[38;5;28;43mself\u001b[39;49m\u001b[38;5;241;43m.\u001b[39;49m\u001b[43m_prepare\u001b[49m\u001b[43m(\u001b[49m\u001b[43m)\u001b[49m\n\u001b[1;32m    295\u001b[0m \u001b[38;5;28;01mfor\u001b[39;00m i, ts \u001b[38;5;129;01min\u001b[39;00m \u001b[38;5;28menumerate\u001b[39m(ProgressBar(\n\u001b[1;32m    296\u001b[0m         \u001b[38;5;28mself\u001b[39m\u001b[38;5;241m.\u001b[39m_trajectory[\u001b[38;5;28mself\u001b[39m\u001b[38;5;241m.\u001b[39mstart:\u001b[38;5;28mself\u001b[39m\u001b[38;5;241m.\u001b[39mstop:\u001b[38;5;28mself\u001b[39m\u001b[38;5;241m.\u001b[39mstep],\n\u001b[1;32m    297\u001b[0m         verbose\u001b[38;5;241m=\u001b[39mverbose)):\n\u001b[1;32m    298\u001b[0m     \u001b[38;5;28mself\u001b[39m\u001b[38;5;241m.\u001b[39m_frame_index \u001b[38;5;241m=\u001b[39m i\n",
      "File \u001b[0;32m~/opt/anaconda3/envs/solvation-analysis/lib/python3.8/site-packages/solvation_analysis/solution.py:171\u001b[0m, in \u001b[0;36mSolution._prepare\u001b[0;34m(self)\u001b[0m\n\u001b[1;32m    169\u001b[0m missing_solvents \u001b[38;5;241m=\u001b[39m \u001b[38;5;28mset\u001b[39m(\u001b[38;5;28mself\u001b[39m\u001b[38;5;241m.\u001b[39msolvents\u001b[38;5;241m.\u001b[39mkeys()) \u001b[38;5;241m-\u001b[39m calculated_radii\n\u001b[1;32m    170\u001b[0m missing_solvents_str \u001b[38;5;241m=\u001b[39m \u001b[38;5;124m'\u001b[39m\u001b[38;5;124m \u001b[39m\u001b[38;5;124m'\u001b[39m\u001b[38;5;241m.\u001b[39mjoin([\u001b[38;5;28mstr\u001b[39m(i) \u001b[38;5;28;01mfor\u001b[39;00m i \u001b[38;5;129;01min\u001b[39;00m missing_solvents])\n\u001b[0;32m--> 171\u001b[0m \u001b[38;5;28;01massert\u001b[39;00m \u001b[38;5;28mlen\u001b[39m(missing_solvents) \u001b[38;5;241m==\u001b[39m \u001b[38;5;241m0\u001b[39m, (\n\u001b[1;32m    172\u001b[0m     \u001b[38;5;124mf\u001b[39m\u001b[38;5;124m\"\u001b[39m\u001b[38;5;124mSolution could not identify a solvation radius for \u001b[39m\u001b[38;5;124m\"\u001b[39m\n\u001b[1;32m    173\u001b[0m     \u001b[38;5;124mf\u001b[39m\u001b[38;5;124m\"\u001b[39m\u001b[38;5;132;01m{\u001b[39;00mmissing_solvents_str\u001b[38;5;132;01m}\u001b[39;00m\u001b[38;5;124m. Please manually enter missing radii \u001b[39m\u001b[38;5;124m\"\u001b[39m\n\u001b[1;32m    174\u001b[0m     \u001b[38;5;124mf\u001b[39m\u001b[38;5;124m\"\u001b[39m\u001b[38;5;124mby editing the radii dict and rerun the analysis.\u001b[39m\u001b[38;5;124m\"\u001b[39m\n\u001b[1;32m    175\u001b[0m )\n",
      "\u001b[0;31mAssertionError\u001b[0m: Solution could not identify a solvation radius for PF6. Please manually enter missing radii by editing the radii dict and rerun the analysis."
     ]
    }
   ],
   "source": [
    "# run analysis\n",
    "solution.run()"
   ]
  },
  {
   "cell_type": "markdown",
   "id": "174a1618-02ec-4fa7-a162-c20f47eb87b8",
   "metadata": {},
   "source": [
    "Oh no! Solution failed to identify a radius for pf6! Since no solvation radius was identified, it's impossible to define a solvation shell. Let's see what went wrong by inspecting the radii dictionary and the PF6 RDF that was generated by Solution."
   ]
  },
  {
   "cell_type": "code",
   "execution_count": null,
   "id": "1da344ad-5c88-44da-b0c2-bd6e3ac6fc0c",
   "metadata": {},
   "outputs": [],
   "source": [
    "# we need this just to display our plot\n",
    "import matplotlib.pyplot as plt\n",
    "\n",
    "# inspect the missing value\n",
    "print(solution.radii)\n",
    "\n",
    "# plot the RDF!\n",
    "solution.plot_solvation_radius('PF6')\n",
    "plt.show()"
   ]
  },
  {
   "cell_type": "markdown",
   "id": "89c15995-e399-4726-8446-34c81ef9cbbf",
   "metadata": {},
   "source": [
    "The solvation radius seems to be just a bit too jagged to be successfully identified, so it's appearing as a nan value in the radii dict. Let's look at the solvation of bn and fec for comparison."
   ]
  },
  {
   "cell_type": "code",
   "execution_count": null,
   "id": "67fd6840-28f2-470e-aff6-b18cd69b2357",
   "metadata": {},
   "outputs": [],
   "source": [
    "# plot the BN and FEC RDFs\n",
    "solution.plot_solvation_radius('BN')\n",
    "solution.plot_solvation_radius('FEC')\n",
    "plt.show()"
   ]
  },
  {
   "cell_type": "markdown",
   "id": "2b3c5171-53c0-461b-922a-5407e8cf3395",
   "metadata": {},
   "source": [
    "Fortunately, we can easily assign a solvation radius for PF6, which looks to be about 2.6 A. We can simply overwrite the radius dict and take another look at the RDF."
   ]
  },
  {
   "cell_type": "code",
   "execution_count": null,
   "id": "6172b9fc-8c94-4bfe-8b08-b534e30f5e31",
   "metadata": {},
   "outputs": [],
   "source": [
    "# assign a new PF6 radius\n",
    "solution.radii['PF6'] = 2.6\n",
    "\n",
    "# inspect the radii\n",
    "print(solution.radii)\n",
    "\n",
    "# check that our new radius looks good\n",
    "solution.plot_solvation_radius('PF6')\n",
    "plt.show()"
   ]
  },
  {
   "cell_type": "markdown",
   "id": "d638417f-01be-4c54-a066-675568ff9143",
   "metadata": {},
   "source": [
    "There! Now we have solvation radii for all our species and we are ready to rerun our analysis!"
   ]
  },
  {
   "cell_type": "code",
   "execution_count": null,
   "id": "7c78a209-1480-4521-b5ed-1cd18c427c9d",
   "metadata": {},
   "outputs": [],
   "source": [
    "# works fine this time\n",
    "solution.run()"
   ]
  },
  {
   "cell_type": "markdown",
   "id": "883d8a3a-afcc-4091-b68d-b855928ae1b4",
   "metadata": {},
   "source": [
    "## Basic Analysis with Coordination and Pairing\n",
    "\n",
    "As mentioned before, Solution automatically instantiates Coordination, Pairing, and Speciation objects as attributes to make further analysis easy. That means that we can automatically access the analysis methods from the Solution class. Lets take a look at the coordination numbers of our solvents. Here, the coordination number can be interpreted as the mean number of solvent coorinated with each solute. So in the case below, there are on average 0.253 FEC coordinated with each Li ion."
   ]
  },
  {
   "cell_type": "code",
   "execution_count": null,
   "id": "f274646c-1d88-4bb5-85d2-c219e74cd5dd",
   "metadata": {},
   "outputs": [],
   "source": [
    "# inspect the coordination numbers\n",
    "solution.coordination.cn_dict"
   ]
  },
  {
   "cell_type": "markdown",
   "id": "d7133a84-e3f9-4e38-b21a-9185df413825",
   "metadata": {},
   "source": [
    "We using a similar interface to look at the percentage of solutes paired with each solvent. Here, the pairing is the percentage of solutes that are coordinated with *ANY* solvent. So in the example below, 100% of Li ions are coordinated with BN and 21% of Li ions are coordinated with FEC."
   ]
  },
  {
   "cell_type": "code",
   "execution_count": null,
   "id": "2c8cfe82-a0e3-4f11-85c7-d4f4f0ad6b54",
   "metadata": {},
   "outputs": [],
   "source": [
    "# inspect the pairing percentages\n",
    "solution.pairing.pairing_dict"
   ]
  },
  {
   "cell_type": "markdown",
   "id": "d50bca64-7240-4357-bf86-88f107e86c7f",
   "metadata": {},
   "source": [
    "If we want to view this information dynamically by frame, we can instead look at the by-frame data. In the case of coordination numbers we can call the following cell. This will show us the coordination numbers at each frame instead of averaged over the whole trajectory."
   ]
  },
  {
   "cell_type": "code",
   "execution_count": null,
   "id": "ad3867bc-067f-4e33-b468-92a8ea93384f",
   "metadata": {},
   "outputs": [],
   "source": [
    "# inspect coordination numbers by frame\n",
    "solution.coordination.cn_by_frame"
   ]
  },
  {
   "cell_type": "markdown",
   "id": "4cd4ae64-2ca6-4a8d-81c4-702830aee5ba",
   "metadata": {},
   "source": [
    "This systems was already equilibrated, so unsurpringly, there isn't much change."
   ]
  },
  {
   "cell_type": "markdown",
   "id": "e79ec4a7-4899-40aa-b873-2e4f4ab175a3",
   "metadata": {},
   "source": [
    "## Exploratory Analysis with Speciation"
   ]
  },
  {
   "cell_type": "markdown",
   "id": "a9c56e02-b75b-4e2e-a2d2-756616c7709a",
   "metadata": {},
   "source": [
    "Speciation is design to complement a more interactive style of analysis. It provides tools for identifying the most common solvation shells, finding specific examples of them, and selecting those examples for further analysis or visualization. The summary data of the speciation statistics is collected in `speciation_percent` which shows the percentage of solutes that are solvated by a shell with the composition shown in the columns."
   ]
  },
  {
   "cell_type": "code",
   "execution_count": null,
   "id": "15fe843d-03df-4b59-ab20-1d81abf97875",
   "metadata": {},
   "outputs": [],
   "source": [
    "solution.speciation.speciation_percent"
   ]
  },
  {
   "cell_type": "markdown",
   "id": "d453c6ec-6b2e-41c9-a4d8-06f485792412",
   "metadata": {},
   "source": [
    "To calculate summary statistics on this data, such as to determine what percent of shells have 4 BN with any number of FEC or PF6, one could call:"
   ]
  },
  {
   "cell_type": "code",
   "execution_count": null,
   "id": "98db8743-b0b5-4f63-9d8e-bf74583b1b21",
   "metadata": {},
   "outputs": [],
   "source": [
    "# calculate # of shells with 4 BN\n",
    "solution.speciation.shell_percent({'BN': 4})"
   ]
  },
  {
   "cell_type": "code",
   "execution_count": null,
   "id": "06ccfc96-181f-4d50-bb44-c50bf6923fed",
   "metadata": {},
   "outputs": [],
   "source": [
    "# make it more specific by specifying 1 PF6\n",
    "solution.speciation.shell_percent({'BN': 4, 'PF6': 1})"
   ]
  },
  {
   "cell_type": "markdown",
   "id": "7fd3f634-6b65-4981-99b3-35da775b9d20",
   "metadata": {},
   "source": [
    "Perhaps we are interested in shells with 4 BN, 0 FEC, and 1 PF6. We can find these with `speciation.find_shells`. This will show us all of the solute in every frame with the given composition. Let's see it in action"
   ]
  },
  {
   "cell_type": "code",
   "execution_count": null,
   "id": "d943842a-b58d-4cbd-9649-1e60295cf2f9",
   "metadata": {
    "tags": []
   },
   "outputs": [],
   "source": [
    "# find all shells matching the given dictionary\n",
    "solution.speciation.find_shells({'BN': 4, 'FEC': 0, 'PF6': 1})"
   ]
  },
  {
   "cell_type": "markdown",
   "id": "70900475-f8de-4c70-8811-f58af9ecbbb4",
   "metadata": {},
   "source": [
    "Awesome! Let's see what we have here by inspecting the data associated with the cluster. I like prime numbers, so lets go with solute 17 in frame 7. To do this, we will use the selection methods in the solution class. Setting `as_df=True` will make the function return a DataFrame instead of an AtomGroup"
   ]
  },
  {
   "cell_type": "code",
   "execution_count": null,
   "id": "554278b5-8664-41c1-8594-3702c600d48f",
   "metadata": {},
   "outputs": [],
   "source": [
    "# get the shell DataFrame\n",
    "solution.solvation_shell(17, 7, as_df=True)"
   ]
  },
  {
   "cell_type": "markdown",
   "id": "40e03fdb-3e12-4c46-9c86-047aa180de33",
   "metadata": {},
   "source": [
    "We can see that this matches the desired shell composition and shows us the indexes of the involved Atoms and Residues. Additionally, it shows us the distane of the closest atom of each solvent. If we want to return the AtomGroup instead of the DataFrame that's easy as well."
   ]
  },
  {
   "cell_type": "code",
   "execution_count": null,
   "id": "31f2f907-dbdb-412e-922b-d4f1ea7912ac",
   "metadata": {},
   "outputs": [],
   "source": [
    "# get the shell AtomGroup\n",
    "solution.solvation_shell(17, 7)"
   ]
  },
  {
   "cell_type": "markdown",
   "id": "4d61a55e-fe5f-4972-afd5-e0d63158bfef",
   "metadata": {},
   "source": [
    "## The Core Solvation Data Structure\n",
    "\n",
    "All of the analyses in `solvation_analysis` are built on top of the solvation data, which is collected in a pandas.DataFrame so that it can be parsed with vectorized numpy and pandas operations. Unless you want to design your own analyses, you probably won't have a need to interact with this much, but it still might be useful to take a look at."
   ]
  },
  {
   "cell_type": "code",
   "execution_count": null,
   "id": "cf10b57b-079d-4068-a2a2-c1712423a905",
   "metadata": {},
   "outputs": [],
   "source": [
    "# the core data structure\n",
    "solution.solvation_data"
   ]
  },
  {
   "cell_type": "markdown",
   "id": "a068ec81-e207-4f62-b003-4f7a68bb5239",
   "metadata": {},
   "source": [
    "As you can see, the solvation data is indexed by the frame, solvated_atom, and atom_id, which provide a unique identifier for each atom involved in solvation. Critically, the solvation only includes atoms within the first solvation radius, because the res_id's are kept, we can determine the molecules involved in solvation. This is a low-memory approach to storing solvation data."
   ]
  }
 ],
 "metadata": {
  "kernelspec": {
   "display_name": "Python 3 (ipykernel)",
   "language": "python",
   "name": "python3"
  },
  "language_info": {
   "codemirror_mode": {
    "name": "ipython",
    "version": 3
   },
   "file_extension": ".py",
   "mimetype": "text/x-python",
   "name": "python",
   "nbconvert_exporter": "python",
   "pygments_lexer": "ipython3",
   "version": "3.8.10"
  }
 },
 "nbformat": 4,
 "nbformat_minor": 5
}
