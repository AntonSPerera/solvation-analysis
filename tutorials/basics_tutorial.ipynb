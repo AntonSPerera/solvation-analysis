{
 "cells": [
  {
   "cell_type": "markdown",
   "id": "d1b6a33e-1aa1-42b0-9d91-6e7bba3f228f",
   "metadata": {},
   "source": [
    "# Introduction\n",
    "\n",
    "This tutorial will introduce the basic functionality and usage of MDAnalysis. It will focus on analyzing a Lithium-ion battery electrolyte composed of 49 Li<sup>+</sup>, 49 PF<sub>6</sub><sup>-</sup>, 363 Butyro Nitride, and 237 Ethylene Carbonate.\n",
    "\n",
    "If you are unfamiliar with the MDAnalysis Universe and AtomGroup, you should check out the tutorial [here]{https://www.mdanalysis.org/MDAnalysisTutorial/basics.html#}. This tutorial will assume a basic familiarity with those data structures."
   ]
  },
  {
   "cell_type": "markdown",
   "id": "2067c1b3-85d1-4951-9b14-a5daea1642f9",
   "metadata": {},
   "source": [
    "## Creating a Solution\n",
    "\n",
    "\n",
    "First, we import solvation_analysis and MDA and instantiate a universe object. "
   ]
  },
  {
   "cell_type": "code",
   "execution_count": 1,
   "id": "52522e0f-a2c4-4802-9350-6afb3e33036e",
   "metadata": {},
   "outputs": [],
   "source": [
    "# imports\n",
    "import MDAnalysis as mda\n",
    "import solvation_analysis\n",
    "\n",
    "\n",
    "# we can use a test trajectory supplied with the package\n",
    "from solvation_analysis.tests import datafiles\n",
    "\n",
    "# instantiate Universe\n",
    "u = mda.Universe(datafiles.bn_fec_data, datafiles.bn_fec_dcd_wrap)"
   ]
  },
  {
   "cell_type": "markdown",
   "id": "7dc41644-0b2f-4d81-a9e2-32b182f280b5",
   "metadata": {},
   "source": [
    "Second, we need to select the AtomGroups for the solute and solvents that will compose the solution. In this tutorial, I am selecting the relevant AtomGroups by the Atom types but you can select the AtomGroups in any way you like. Generally, solvation_analysis will work best when 1) the solute and solvents are disjoint sets and 2) the set of solvents includes all atoms that are not the solute."
   ]
  },
  {
   "cell_type": "code",
   "execution_count": 2,
   "id": "026c729e-eeb6-4f90-8785-fb38a79810d4",
   "metadata": {},
   "outputs": [],
   "source": [
    "# define solute AtomGroup\n",
    "li_atoms = u.atoms.select_atoms(\"type 22\")\n",
    "\n",
    "# define solvent AtomGroups\n",
    "PF6 = u.atoms.select_atoms(\"byres type 21\")\n",
    "BN = u.atoms.select_atoms(\"byres type 5\")\n",
    "FEC = u.atoms.select_atoms(\"byres type 19\")"
   ]
  },
  {
   "cell_type": "markdown",
   "id": "71854641-81a4-4d3e-bd6e-aa55e47198a4",
   "metadata": {},
   "source": [
    "Finally, we can instantiate the Solution from the solute and solvents! The solvents are supplied with a dict of {str: AtomGroups}. The strings should be the names of the solvents or some other convenient identifier because Solution will use this to identify the solvent in all future analysis."
   ]
  },
  {
   "cell_type": "code",
   "execution_count": 3,
   "id": "03ec0dce-8887-471b-8aa3-d3635a5336ed",
   "metadata": {},
   "outputs": [],
   "source": [
    "# instantiate solution\n",
    "from solvation_analysis.solution import Solution\n",
    "\n",
    "solution = Solution(li_atoms, {'PF6': PF6, 'BN': BN, 'FEC': FEC})"
   ]
  },
  {
   "cell_type": "markdown",
   "id": "b318d459-615e-4920-9875-8ce38a80526d",
   "metadata": {
    "tags": []
   },
   "source": [
    "We can see that solution now contains our atoms of interest as attributes:"
   ]
  },
  {
   "cell_type": "code",
   "execution_count": 4,
   "id": "e515cc9f-435a-4318-9092-69b9d90fd601",
   "metadata": {},
   "outputs": [
    {
     "name": "stdout",
     "output_type": "stream",
     "text": [
      "<AtomGroup [<Atom 6734: of type 22 resid 651 and segid SYSTEM>, <Atom 6742: of type 22 resid 652 and segid SYSTEM>, <Atom 6750: of type 22 resid 653 and segid SYSTEM>, ..., <Atom 7102: of type 22 resid 697 and segid SYSTEM>, <Atom 7110: of type 22 resid 698 and segid SYSTEM>, <Atom 7118: of type 22 resid 699 and segid SYSTEM>]>\n",
      "<AtomGroup [<Atom 1: of type 1 resid 1 and segid SYSTEM>, <Atom 2: of type 2 resid 1 and segid SYSTEM>, <Atom 3: of type 3 resid 1 and segid SYSTEM>, ..., <Atom 4354: of type 10 resid 363 and segid SYSTEM>, <Atom 4355: of type 11 resid 363 and segid SYSTEM>, <Atom 4356: of type 12 resid 363 and segid SYSTEM>]>\n"
     ]
    }
   ],
   "source": [
    "print(solution.solute)\n",
    "print(solution.solvents['BN'])"
   ]
  },
  {
   "cell_type": "markdown",
   "id": "0f2ca114-4e12-49bd-885f-1c11357c3e59",
   "metadata": {},
   "source": [
    "## Running and Validating a Solution\n",
    "\n",
    "Now that we have a solution, we can run the analysis! This follows the typical MDA analysis interface of calling `analysis.run()`. When `run` is called, a few things happen:\n",
    "\n",
    "\n",
    "First, Solution calculates the RDF between the solute and each solvent and\n",
    "uses it to identify the radius of the first solvation shell.\n",
    "\n",
    "Second, Solution finds all atoms in the first solvation shell, using\n",
    "the cutoff radii for each solvent. This analysis is repeated for each solute at every frame in the\n",
    "analysis and the data is compiled into a pandas.DataFrame.\n",
    "\n",
    "Finally, Solution instantiates Speciation, Coordination, and Pairing\n",
    "objects from the solvation_data, providing a convenient interface for\n",
    "further analysis. These will be discussed later in the tutorial.\n",
    "\n",
    "Now let's do it!"
   ]
  },
  {
   "cell_type": "code",
   "execution_count": 5,
   "id": "928e706d-7206-404f-b1ba-41a3897fd194",
   "metadata": {
    "tags": []
   },
   "outputs": [
    {
     "name": "stderr",
     "output_type": "stream",
     "text": [
      "/Users/hugo/opt/anaconda3/envs/solvation-analysis/lib/python3.8/site-packages/solvation_analysis/rdf_parser.py:159: UserWarning: No solvation shell detected.\n",
      "  warnings.warn(\"No solvation shell detected.\")\n"
     ]
    },
    {
     "ename": "AssertionError",
     "evalue": "Solution could not identify a solvation radius for PF6. Please manually enter missing radii by editing the radii dict and rerun the analysis.",
     "output_type": "error",
     "traceback": [
      "\u001b[0;31m---------------------------------------------------------------------------\u001b[0m",
      "\u001b[0;31mAssertionError\u001b[0m                            Traceback (most recent call last)",
      "Input \u001b[0;32mIn [5]\u001b[0m, in \u001b[0;36m<module>\u001b[0;34m\u001b[0m\n\u001b[1;32m      1\u001b[0m \u001b[38;5;66;03m# run analysis\u001b[39;00m\n\u001b[0;32m----> 2\u001b[0m \u001b[43msolution\u001b[49m\u001b[38;5;241;43m.\u001b[39;49m\u001b[43mrun\u001b[49m\u001b[43m(\u001b[49m\u001b[43m)\u001b[49m\n",
      "File \u001b[0;32m~/opt/anaconda3/envs/solvation-analysis/lib/python3.8/site-packages/MDAnalysis/analysis/base.py:294\u001b[0m, in \u001b[0;36mAnalysisBase.run\u001b[0;34m(self, start, stop, step, verbose)\u001b[0m\n\u001b[1;32m    292\u001b[0m \u001b[38;5;28mself\u001b[39m\u001b[38;5;241m.\u001b[39m_setup_frames(\u001b[38;5;28mself\u001b[39m\u001b[38;5;241m.\u001b[39m_trajectory, start, stop, step)\n\u001b[1;32m    293\u001b[0m logger\u001b[38;5;241m.\u001b[39minfo(\u001b[38;5;124m\"\u001b[39m\u001b[38;5;124mStarting preparation\u001b[39m\u001b[38;5;124m\"\u001b[39m)\n\u001b[0;32m--> 294\u001b[0m \u001b[38;5;28;43mself\u001b[39;49m\u001b[38;5;241;43m.\u001b[39;49m\u001b[43m_prepare\u001b[49m\u001b[43m(\u001b[49m\u001b[43m)\u001b[49m\n\u001b[1;32m    295\u001b[0m \u001b[38;5;28;01mfor\u001b[39;00m i, ts \u001b[38;5;129;01min\u001b[39;00m \u001b[38;5;28menumerate\u001b[39m(ProgressBar(\n\u001b[1;32m    296\u001b[0m         \u001b[38;5;28mself\u001b[39m\u001b[38;5;241m.\u001b[39m_trajectory[\u001b[38;5;28mself\u001b[39m\u001b[38;5;241m.\u001b[39mstart:\u001b[38;5;28mself\u001b[39m\u001b[38;5;241m.\u001b[39mstop:\u001b[38;5;28mself\u001b[39m\u001b[38;5;241m.\u001b[39mstep],\n\u001b[1;32m    297\u001b[0m         verbose\u001b[38;5;241m=\u001b[39mverbose)):\n\u001b[1;32m    298\u001b[0m     \u001b[38;5;28mself\u001b[39m\u001b[38;5;241m.\u001b[39m_frame_index \u001b[38;5;241m=\u001b[39m i\n",
      "File \u001b[0;32m~/opt/anaconda3/envs/solvation-analysis/lib/python3.8/site-packages/solvation_analysis/solution.py:171\u001b[0m, in \u001b[0;36mSolution._prepare\u001b[0;34m(self)\u001b[0m\n\u001b[1;32m    169\u001b[0m missing_solvents \u001b[38;5;241m=\u001b[39m \u001b[38;5;28mset\u001b[39m(\u001b[38;5;28mself\u001b[39m\u001b[38;5;241m.\u001b[39msolvents\u001b[38;5;241m.\u001b[39mkeys()) \u001b[38;5;241m-\u001b[39m calculated_radii\n\u001b[1;32m    170\u001b[0m missing_solvents_str \u001b[38;5;241m=\u001b[39m \u001b[38;5;124m'\u001b[39m\u001b[38;5;124m \u001b[39m\u001b[38;5;124m'\u001b[39m\u001b[38;5;241m.\u001b[39mjoin([\u001b[38;5;28mstr\u001b[39m(i) \u001b[38;5;28;01mfor\u001b[39;00m i \u001b[38;5;129;01min\u001b[39;00m missing_solvents])\n\u001b[0;32m--> 171\u001b[0m \u001b[38;5;28;01massert\u001b[39;00m \u001b[38;5;28mlen\u001b[39m(missing_solvents) \u001b[38;5;241m==\u001b[39m \u001b[38;5;241m0\u001b[39m, (\n\u001b[1;32m    172\u001b[0m     \u001b[38;5;124mf\u001b[39m\u001b[38;5;124m\"\u001b[39m\u001b[38;5;124mSolution could not identify a solvation radius for \u001b[39m\u001b[38;5;124m\"\u001b[39m\n\u001b[1;32m    173\u001b[0m     \u001b[38;5;124mf\u001b[39m\u001b[38;5;124m\"\u001b[39m\u001b[38;5;132;01m{\u001b[39;00mmissing_solvents_str\u001b[38;5;132;01m}\u001b[39;00m\u001b[38;5;124m. Please manually enter missing radii \u001b[39m\u001b[38;5;124m\"\u001b[39m\n\u001b[1;32m    174\u001b[0m     \u001b[38;5;124mf\u001b[39m\u001b[38;5;124m\"\u001b[39m\u001b[38;5;124mby editing the radii dict and rerun the analysis.\u001b[39m\u001b[38;5;124m\"\u001b[39m\n\u001b[1;32m    175\u001b[0m )\n",
      "\u001b[0;31mAssertionError\u001b[0m: Solution could not identify a solvation radius for PF6. Please manually enter missing radii by editing the radii dict and rerun the analysis."
     ]
    }
   ],
   "source": [
    "# run analysis\n",
    "solution.run()"
   ]
  },
  {
   "cell_type": "markdown",
   "id": "174a1618-02ec-4fa7-a162-c20f47eb87b8",
   "metadata": {},
   "source": [
    "Oh no! Solution failed to identify a radius for pf6! Since no solvation radius was identified, it's impossible to define a solvation shell. Let's see what went wrong by inspecting the radii dictionary and the PF6 RDF that was generated by Solution."
   ]
  },
  {
   "cell_type": "code",
   "execution_count": 6,
   "id": "1da344ad-5c88-44da-b0c2-bd6e3ac6fc0c",
   "metadata": {},
   "outputs": [
    {
     "name": "stdout",
     "output_type": "stream",
     "text": [
      "{'PF6': nan, 'BN': 2.614678772286192, 'FEC': 2.431583419310968}\n"
     ]
    },
    {
     "data": {
      "image/png": "[encoded data removed]",
      "text/plain": [
       "<Figure size 432x288 with 1 Axes>"
      ]
     },
     "metadata": {
      "needs_background": "light"
     },
     "output_type": "display_data"
    }
   ],
   "source": [
    "# we need this just to display our plot\n",
    "import matplotlib.pyplot as plt\n",
    "\n",
    "# inspect the missing value\n",
    "print(solution.radii)\n",
    "\n",
    "# plot the RDF!\n",
    "solution.plot_solvation_radius('PF6')\n",
    "plt.show()"
   ]
  },
  {
   "cell_type": "markdown",
   "id": "89c15995-e399-4726-8446-34c81ef9cbbf",
   "metadata": {},
   "source": [
    "The solvation radius seems to be just a bit too jagged to be successfully identified, so it's appearing as a nan value in the radii dict. Let's look at the solvation of bn and fec for comparison."
   ]
  },
  {
   "cell_type": "code",
   "execution_count": 7,
   "id": "67fd6840-28f2-470e-aff6-b18cd69b2357",
   "metadata": {},
   "outputs": [
    {
     "data": {
      "image/png": "[encoded data removed]",
      "text/plain": [
       "<Figure size 432x288 with 1 Axes>"
      ]
     },
     "metadata": {
      "needs_background": "light"
     },
     "output_type": "display_data"
    },
    {
     "data": {
      "image/png": "[encoded data removed]",
      "text/plain": [
       "<Figure size 432x288 with 1 Axes>"
      ]
     },
     "metadata": {
      "needs_background": "light"
     },
     "output_type": "display_data"
    }
   ],
   "source": [
    "# plot the BN and FEC RDFs\n",
    "solution.plot_solvation_radius('BN')\n",
    "solution.plot_solvation_radius('FEC')\n",
    "plt.show()"
   ]
  },
  {
   "cell_type": "markdown",
   "id": "2b3c5171-53c0-461b-922a-5407e8cf3395",
   "metadata": {},
   "source": [
    "Fortunately, we can easily assign a solvation radius for PF6, which looks to be about 2.6 A. We can simply overwrite the radius dict and take another look at the RDF."
   ]
  },
  {
   "cell_type": "code",
   "execution_count": 8,
   "id": "6172b9fc-8c94-4bfe-8b08-b534e30f5e31",
   "metadata": {},
   "outputs": [
    {
     "name": "stdout",
     "output_type": "stream",
     "text": [
      "{'PF6': 2.6, 'BN': 2.614678772286192, 'FEC': 2.431583419310968}\n"
     ]
    },
    {
     "data": {
      "image/png": "[encoded data removed]",
      "text/plain": [
       "<Figure size 432x288 with 1 Axes>"
      ]
     },
     "metadata": {
      "needs_background": "light"
     },
     "output_type": "display_data"
    }
   ],
   "source": [
    "# assign a new PF6 radius\n",
    "solution.radii['PF6'] = 2.6\n",
    "\n",
    "# inspect the radii\n",
    "print(solution.radii)\n",
    "\n",
    "# check that our new radius looks good\n",
    "solution.plot_solvation_radius('PF6')\n",
    "plt.show()"
   ]
  },
  {
   "cell_type": "markdown",
   "id": "d638417f-01be-4c54-a066-675568ff9143",
   "metadata": {},
   "source": [
    "There! Now we have solvation radii for all our species and we are ready to rerun our analysis!"
   ]
  },
  {
   "cell_type": "code",
   "execution_count": 9,
   "id": "7c78a209-1480-4521-b5ed-1cd18c427c9d",
   "metadata": {},
   "outputs": [
    {
     "data": {
      "text/plain": [
       "<solvation_analysis.solution.Solution at 0x7f9332b21370>"
      ]
     },
     "execution_count": 9,
     "metadata": {},
     "output_type": "execute_result"
    }
   ],
   "source": [
    "# works fine this time\n",
    "solution.run()"
   ]
  },
  {
   "cell_type": "markdown",
   "id": "883d8a3a-afcc-4091-b68d-b855928ae1b4",
   "metadata": {},
   "source": [
    "## Basic Analysis with Coordination and Pairing\n",
    "\n",
    "As mentioned before, Solution automatically instantiates Coordination, Pairing, and Speciation objects as attributes to make further analysis easy. That means that we can automatically access the analysis methods from the Solution class. Lets take a look at the coordination numbers of our solvents. Here, the coordination number can be interpreted as the mean number of solvent coorinated with each solute. So in the case below, there are on average 0.253 FEC coordinated with each Li ion."
   ]
  },
  {
   "cell_type": "code",
   "execution_count": 10,
   "id": "f274646c-1d88-4bb5-85d2-c219e74cd5dd",
   "metadata": {},
   "outputs": [
    {
     "data": {
      "text/plain": [
       "{'BN': 4.328571428571428,\n",
       " 'FEC': 0.2530612244897959,\n",
       " 'PF6': 0.12857142857142856}"
      ]
     },
     "execution_count": 10,
     "metadata": {},
     "output_type": "execute_result"
    }
   ],
   "source": [
    "# inspect the coordination numbers\n",
    "solution.coordination.cn_dict"
   ]
  },
  {
   "cell_type": "markdown",
   "id": "d7133a84-e3f9-4e38-b21a-9185df413825",
   "metadata": {},
   "source": [
    "We using a similar interface to look at the percentage of solutes paired with each solvent. Here, the pairing is the percentage of solutes that are coordinated with *ANY* solvent. So in the example below, 100% of Li ions are coordinated with BN and 21% of Li ions are coordinated with FEC."
   ]
  },
  {
   "cell_type": "code",
   "execution_count": 11,
   "id": "2c8cfe82-a0e3-4f11-85c7-d4f4f0ad6b54",
   "metadata": {},
   "outputs": [
    {
     "data": {
      "text/plain": [
       "{'BN': 1.0, 'FEC': 0.21020408163265306, 'PF6': 0.12040816326530612}"
      ]
     },
     "execution_count": 11,
     "metadata": {},
     "output_type": "execute_result"
    }
   ],
   "source": [
    "# inspect the pairing percentages\n",
    "solution.pairing.pairing_dict"
   ]
  },
  {
   "cell_type": "markdown",
   "id": "d50bca64-7240-4357-bf86-88f107e86c7f",
   "metadata": {},
   "source": [
    "If we want to view this information dynamically by frame, we can instead look at the by-frame data. In the case of coordination numbers we can call the following cell. This will show us the coordination numbers at each frame instead of averaged over the whole trajectory."
   ]
  },
  {
   "cell_type": "code",
   "execution_count": 12,
   "id": "ad3867bc-067f-4e33-b468-92a8ea93384f",
   "metadata": {},
   "outputs": [
    {
     "data": {
      "text/html": [
       "<div>\n",
       "<style scoped>\n",
       "    .dataframe tbody tr th:only-of-type {\n",
       "        vertical-align: middle;\n",
       "    }\n",
       "\n",
       "    .dataframe tbody tr th {\n",
       "        vertical-align: top;\n",
       "    }\n",
       "\n",
       "    .dataframe thead th {\n",
       "        text-align: right;\n",
       "    }\n",
       "</style>\n",
       "<table border=\"1\" class=\"dataframe\">\n",
       "  <thead>\n",
       "    <tr style=\"text-align: right;\">\n",
       "      <th>frame</th>\n",
       "      <th>0</th>\n",
       "      <th>1</th>\n",
       "      <th>2</th>\n",
       "      <th>3</th>\n",
       "      <th>4</th>\n",
       "      <th>5</th>\n",
       "      <th>6</th>\n",
       "      <th>7</th>\n",
       "      <th>8</th>\n",
       "      <th>9</th>\n",
       "    </tr>\n",
       "    <tr>\n",
       "      <th>res_name</th>\n",
       "      <th></th>\n",
       "      <th></th>\n",
       "      <th></th>\n",
       "      <th></th>\n",
       "      <th></th>\n",
       "      <th></th>\n",
       "      <th></th>\n",
       "      <th></th>\n",
       "      <th></th>\n",
       "      <th></th>\n",
       "    </tr>\n",
       "  </thead>\n",
       "  <tbody>\n",
       "    <tr>\n",
       "      <th>BN</th>\n",
       "      <td>0.428571</td>\n",
       "      <td>0.432653</td>\n",
       "      <td>0.428571</td>\n",
       "      <td>0.432653</td>\n",
       "      <td>0.428571</td>\n",
       "      <td>0.436735</td>\n",
       "      <td>0.432653</td>\n",
       "      <td>0.440816</td>\n",
       "      <td>0.432653</td>\n",
       "      <td>0.434694</td>\n",
       "    </tr>\n",
       "    <tr>\n",
       "      <th>FEC</th>\n",
       "      <td>0.020408</td>\n",
       "      <td>0.022449</td>\n",
       "      <td>0.024490</td>\n",
       "      <td>0.020408</td>\n",
       "      <td>0.028571</td>\n",
       "      <td>0.040816</td>\n",
       "      <td>0.022449</td>\n",
       "      <td>0.026531</td>\n",
       "      <td>0.026531</td>\n",
       "      <td>0.020408</td>\n",
       "    </tr>\n",
       "    <tr>\n",
       "      <th>PF6</th>\n",
       "      <td>0.016327</td>\n",
       "      <td>0.012245</td>\n",
       "      <td>0.016327</td>\n",
       "      <td>0.012245</td>\n",
       "      <td>0.014286</td>\n",
       "      <td>0.006122</td>\n",
       "      <td>0.010204</td>\n",
       "      <td>0.014286</td>\n",
       "      <td>0.014286</td>\n",
       "      <td>0.012245</td>\n",
       "    </tr>\n",
       "  </tbody>\n",
       "</table>\n",
       "</div>"
      ],
      "text/plain": [
       "frame            0         1         2         3         4         5  \\\n",
       "res_name                                                               \n",
       "BN        0.428571  0.432653  0.428571  0.432653  0.428571  0.436735   \n",
       "FEC       0.020408  0.022449  0.024490  0.020408  0.028571  0.040816   \n",
       "PF6       0.016327  0.012245  0.016327  0.012245  0.014286  0.006122   \n",
       "\n",
       "frame            6         7         8         9  \n",
       "res_name                                          \n",
       "BN        0.432653  0.440816  0.432653  0.434694  \n",
       "FEC       0.022449  0.026531  0.026531  0.020408  \n",
       "PF6       0.010204  0.014286  0.014286  0.012245  "
      ]
     },
     "execution_count": 12,
     "metadata": {},
     "output_type": "execute_result"
    }
   ],
   "source": [
    "# inspect coordination numbers by frame\n",
    "solution.coordination.cn_by_frame"
   ]
  },
  {
   "cell_type": "markdown",
   "id": "4cd4ae64-2ca6-4a8d-81c4-702830aee5ba",
   "metadata": {},
   "source": [
    "This systems was already equilibrated, so unsurpringly, there isn't much change."
   ]
  },
  {
   "cell_type": "markdown",
   "id": "e79ec4a7-4899-40aa-b873-2e4f4ab175a3",
   "metadata": {},
   "source": [
    "## Exploratory Analysis with Speciation"
   ]
  },
  {
   "cell_type": "markdown",
   "id": "a9c56e02-b75b-4e2e-a2d2-756616c7709a",
   "metadata": {},
   "source": [
    "Speciation is design to complement a more interactive style of analysis. It provides tools for identifying the most common solvation shells, finding specific examples of them, and selecting those examples for further analysis or visualization. The summary data of the speciation statistics is collected in `speciation_percent` which shows the percentage of solutes that are solvated by a shell with the composition shown in the columns."
   ]
  },
  {
   "cell_type": "code",
   "execution_count": 13,
   "id": "15fe843d-03df-4b59-ab20-1d81abf97875",
   "metadata": {},
   "outputs": [
    {
     "data": {
      "text/html": [
       "<div>\n",
       "<style scoped>\n",
       "    .dataframe tbody tr th:only-of-type {\n",
       "        vertical-align: middle;\n",
       "    }\n",
       "\n",
       "    .dataframe tbody tr th {\n",
       "        vertical-align: top;\n",
       "    }\n",
       "\n",
       "    .dataframe thead th {\n",
       "        text-align: right;\n",
       "    }\n",
       "</style>\n",
       "<table border=\"1\" class=\"dataframe\">\n",
       "  <thead>\n",
       "    <tr style=\"text-align: right;\">\n",
       "      <th></th>\n",
       "      <th>BN</th>\n",
       "      <th>FEC</th>\n",
       "      <th>PF6</th>\n",
       "      <th>count</th>\n",
       "    </tr>\n",
       "  </thead>\n",
       "  <tbody>\n",
       "    <tr>\n",
       "      <th>0</th>\n",
       "      <td>5</td>\n",
       "      <td>0</td>\n",
       "      <td>0</td>\n",
       "      <td>0.357143</td>\n",
       "    </tr>\n",
       "    <tr>\n",
       "      <th>1</th>\n",
       "      <td>4</td>\n",
       "      <td>0</td>\n",
       "      <td>0</td>\n",
       "      <td>0.310204</td>\n",
       "    </tr>\n",
       "    <tr>\n",
       "      <th>2</th>\n",
       "      <td>4</td>\n",
       "      <td>1</td>\n",
       "      <td>0</td>\n",
       "      <td>0.116327</td>\n",
       "    </tr>\n",
       "    <tr>\n",
       "      <th>3</th>\n",
       "      <td>4</td>\n",
       "      <td>0</td>\n",
       "      <td>1</td>\n",
       "      <td>0.089796</td>\n",
       "    </tr>\n",
       "    <tr>\n",
       "      <th>4</th>\n",
       "      <td>5</td>\n",
       "      <td>1</td>\n",
       "      <td>0</td>\n",
       "      <td>0.034694</td>\n",
       "    </tr>\n",
       "    <tr>\n",
       "      <th>5</th>\n",
       "      <td>3</td>\n",
       "      <td>2</td>\n",
       "      <td>0</td>\n",
       "      <td>0.018367</td>\n",
       "    </tr>\n",
       "    <tr>\n",
       "      <th>6</th>\n",
       "      <td>3</td>\n",
       "      <td>0</td>\n",
       "      <td>1</td>\n",
       "      <td>0.016327</td>\n",
       "    </tr>\n",
       "    <tr>\n",
       "      <th>7</th>\n",
       "      <td>3</td>\n",
       "      <td>1</td>\n",
       "      <td>0</td>\n",
       "      <td>0.016327</td>\n",
       "    </tr>\n",
       "    <tr>\n",
       "      <th>8</th>\n",
       "      <td>4</td>\n",
       "      <td>2</td>\n",
       "      <td>0</td>\n",
       "      <td>0.014286</td>\n",
       "    </tr>\n",
       "    <tr>\n",
       "      <th>9</th>\n",
       "      <td>3</td>\n",
       "      <td>0</td>\n",
       "      <td>2</td>\n",
       "      <td>0.008163</td>\n",
       "    </tr>\n",
       "    <tr>\n",
       "      <th>10</th>\n",
       "      <td>3</td>\n",
       "      <td>1</td>\n",
       "      <td>1</td>\n",
       "      <td>0.004082</td>\n",
       "    </tr>\n",
       "    <tr>\n",
       "      <th>11</th>\n",
       "      <td>3</td>\n",
       "      <td>3</td>\n",
       "      <td>0</td>\n",
       "      <td>0.004082</td>\n",
       "    </tr>\n",
       "    <tr>\n",
       "      <th>12</th>\n",
       "      <td>6</td>\n",
       "      <td>0</td>\n",
       "      <td>0</td>\n",
       "      <td>0.004082</td>\n",
       "    </tr>\n",
       "    <tr>\n",
       "      <th>13</th>\n",
       "      <td>2</td>\n",
       "      <td>2</td>\n",
       "      <td>0</td>\n",
       "      <td>0.002041</td>\n",
       "    </tr>\n",
       "    <tr>\n",
       "      <th>14</th>\n",
       "      <td>3</td>\n",
       "      <td>0</td>\n",
       "      <td>0</td>\n",
       "      <td>0.002041</td>\n",
       "    </tr>\n",
       "    <tr>\n",
       "      <th>15</th>\n",
       "      <td>5</td>\n",
       "      <td>0</td>\n",
       "      <td>1</td>\n",
       "      <td>0.002041</td>\n",
       "    </tr>\n",
       "  </tbody>\n",
       "</table>\n",
       "</div>"
      ],
      "text/plain": [
       "    BN  FEC  PF6     count\n",
       "0    5    0    0  0.357143\n",
       "1    4    0    0  0.310204\n",
       "2    4    1    0  0.116327\n",
       "3    4    0    1  0.089796\n",
       "4    5    1    0  0.034694\n",
       "5    3    2    0  0.018367\n",
       "6    3    0    1  0.016327\n",
       "7    3    1    0  0.016327\n",
       "8    4    2    0  0.014286\n",
       "9    3    0    2  0.008163\n",
       "10   3    1    1  0.004082\n",
       "11   3    3    0  0.004082\n",
       "12   6    0    0  0.004082\n",
       "13   2    2    0  0.002041\n",
       "14   3    0    0  0.002041\n",
       "15   5    0    1  0.002041"
      ]
     },
     "execution_count": 13,
     "metadata": {},
     "output_type": "execute_result"
    }
   ],
   "source": [
    "solution.speciation.speciation_percent"
   ]
  },
  {
   "cell_type": "markdown",
   "id": "d453c6ec-6b2e-41c9-a4d8-06f485792412",
   "metadata": {},
   "source": [
    "To calculate summary statistics on this data, such as to determine what percent of shells have 4 BN with any number of FEC or PF6, one could call:"
   ]
  },
  {
   "cell_type": "code",
   "execution_count": 14,
   "id": "98db8743-b0b5-4f63-9d8e-bf74583b1b21",
   "metadata": {},
   "outputs": [
    {
     "data": {
      "text/plain": [
       "0.5306122448979591"
      ]
     },
     "execution_count": 14,
     "metadata": {},
     "output_type": "execute_result"
    }
   ],
   "source": [
    "# calculate # of shells with 4 BN\n",
    "solution.speciation.shell_percent({'BN': 4})"
   ]
  },
  {
   "cell_type": "code",
   "execution_count": 15,
   "id": "06ccfc96-181f-4d50-bb44-c50bf6923fed",
   "metadata": {},
   "outputs": [
    {
     "data": {
      "text/plain": [
       "0.08979591836734693"
      ]
     },
     "execution_count": 15,
     "metadata": {},
     "output_type": "execute_result"
    }
   ],
   "source": [
    "# make it more specific by specifying 1 PF6\n",
    "solution.speciation.shell_percent({'BN': 4, 'PF6': 1})"
   ]
  },
  {
   "cell_type": "markdown",
   "id": "7fd3f634-6b65-4981-99b3-35da775b9d20",
   "metadata": {},
   "source": [
    "Perhaps we are interested in shells with 4 BN, 0 FEC, and 1 PF6. We can find these with `speciation.find_shells`. This will show us all of the solute in every frame with the given composition. Let's see it in action"
   ]
  },
  {
   "cell_type": "code",
   "execution_count": 16,
   "id": "d943842a-b58d-4cbd-9649-1e60295cf2f9",
   "metadata": {
    "tags": []
   },
   "outputs": [
    {
     "data": {
      "text/html": [
       "<div>\n",
       "<style scoped>\n",
       "    .dataframe tbody tr th:only-of-type {\n",
       "        vertical-align: middle;\n",
       "    }\n",
       "\n",
       "    .dataframe tbody tr th {\n",
       "        vertical-align: top;\n",
       "    }\n",
       "\n",
       "    .dataframe thead th {\n",
       "        text-align: right;\n",
       "    }\n",
       "</style>\n",
       "<table border=\"1\" class=\"dataframe\">\n",
       "  <thead>\n",
       "    <tr style=\"text-align: right;\">\n",
       "      <th></th>\n",
       "      <th>res_name</th>\n",
       "      <th>BN</th>\n",
       "      <th>FEC</th>\n",
       "      <th>PF6</th>\n",
       "    </tr>\n",
       "    <tr>\n",
       "      <th>frame</th>\n",
       "      <th>solvated_atom</th>\n",
       "      <th></th>\n",
       "      <th></th>\n",
       "      <th></th>\n",
       "    </tr>\n",
       "  </thead>\n",
       "  <tbody>\n",
       "    <tr>\n",
       "      <th rowspan=\"7\" valign=\"top\">0</th>\n",
       "      <th>6</th>\n",
       "      <td>4</td>\n",
       "      <td>0</td>\n",
       "      <td>1</td>\n",
       "    </tr>\n",
       "    <tr>\n",
       "      <th>18</th>\n",
       "      <td>4</td>\n",
       "      <td>0</td>\n",
       "      <td>1</td>\n",
       "    </tr>\n",
       "    <tr>\n",
       "      <th>21</th>\n",
       "      <td>4</td>\n",
       "      <td>0</td>\n",
       "      <td>1</td>\n",
       "    </tr>\n",
       "    <tr>\n",
       "      <th>22</th>\n",
       "      <td>4</td>\n",
       "      <td>0</td>\n",
       "      <td>1</td>\n",
       "    </tr>\n",
       "    <tr>\n",
       "      <th>34</th>\n",
       "      <td>4</td>\n",
       "      <td>0</td>\n",
       "      <td>1</td>\n",
       "    </tr>\n",
       "    <tr>\n",
       "      <th>41</th>\n",
       "      <td>4</td>\n",
       "      <td>0</td>\n",
       "      <td>1</td>\n",
       "    </tr>\n",
       "    <tr>\n",
       "      <th>44</th>\n",
       "      <td>4</td>\n",
       "      <td>0</td>\n",
       "      <td>1</td>\n",
       "    </tr>\n",
       "    <tr>\n",
       "      <th rowspan=\"6\" valign=\"top\">1</th>\n",
       "      <th>18</th>\n",
       "      <td>4</td>\n",
       "      <td>0</td>\n",
       "      <td>1</td>\n",
       "    </tr>\n",
       "    <tr>\n",
       "      <th>19</th>\n",
       "      <td>4</td>\n",
       "      <td>0</td>\n",
       "      <td>1</td>\n",
       "    </tr>\n",
       "    <tr>\n",
       "      <th>21</th>\n",
       "      <td>4</td>\n",
       "      <td>0</td>\n",
       "      <td>1</td>\n",
       "    </tr>\n",
       "    <tr>\n",
       "      <th>22</th>\n",
       "      <td>4</td>\n",
       "      <td>0</td>\n",
       "      <td>1</td>\n",
       "    </tr>\n",
       "    <tr>\n",
       "      <th>34</th>\n",
       "      <td>4</td>\n",
       "      <td>0</td>\n",
       "      <td>1</td>\n",
       "    </tr>\n",
       "    <tr>\n",
       "      <th>44</th>\n",
       "      <td>4</td>\n",
       "      <td>0</td>\n",
       "      <td>1</td>\n",
       "    </tr>\n",
       "    <tr>\n",
       "      <th rowspan=\"5\" valign=\"top\">2</th>\n",
       "      <th>6</th>\n",
       "      <td>4</td>\n",
       "      <td>0</td>\n",
       "      <td>1</td>\n",
       "    </tr>\n",
       "    <tr>\n",
       "      <th>18</th>\n",
       "      <td>4</td>\n",
       "      <td>0</td>\n",
       "      <td>1</td>\n",
       "    </tr>\n",
       "    <tr>\n",
       "      <th>21</th>\n",
       "      <td>4</td>\n",
       "      <td>0</td>\n",
       "      <td>1</td>\n",
       "    </tr>\n",
       "    <tr>\n",
       "      <th>23</th>\n",
       "      <td>4</td>\n",
       "      <td>0</td>\n",
       "      <td>1</td>\n",
       "    </tr>\n",
       "    <tr>\n",
       "      <th>28</th>\n",
       "      <td>4</td>\n",
       "      <td>0</td>\n",
       "      <td>1</td>\n",
       "    </tr>\n",
       "    <tr>\n",
       "      <th rowspan=\"5\" valign=\"top\">3</th>\n",
       "      <th>6</th>\n",
       "      <td>4</td>\n",
       "      <td>0</td>\n",
       "      <td>1</td>\n",
       "    </tr>\n",
       "    <tr>\n",
       "      <th>18</th>\n",
       "      <td>4</td>\n",
       "      <td>0</td>\n",
       "      <td>1</td>\n",
       "    </tr>\n",
       "    <tr>\n",
       "      <th>28</th>\n",
       "      <td>4</td>\n",
       "      <td>0</td>\n",
       "      <td>1</td>\n",
       "    </tr>\n",
       "    <tr>\n",
       "      <th>31</th>\n",
       "      <td>4</td>\n",
       "      <td>0</td>\n",
       "      <td>1</td>\n",
       "    </tr>\n",
       "    <tr>\n",
       "      <th>34</th>\n",
       "      <td>4</td>\n",
       "      <td>0</td>\n",
       "      <td>1</td>\n",
       "    </tr>\n",
       "    <tr>\n",
       "      <th rowspan=\"5\" valign=\"top\">4</th>\n",
       "      <th>6</th>\n",
       "      <td>4</td>\n",
       "      <td>0</td>\n",
       "      <td>1</td>\n",
       "    </tr>\n",
       "    <tr>\n",
       "      <th>17</th>\n",
       "      <td>4</td>\n",
       "      <td>0</td>\n",
       "      <td>1</td>\n",
       "    </tr>\n",
       "    <tr>\n",
       "      <th>23</th>\n",
       "      <td>4</td>\n",
       "      <td>0</td>\n",
       "      <td>1</td>\n",
       "    </tr>\n",
       "    <tr>\n",
       "      <th>31</th>\n",
       "      <td>4</td>\n",
       "      <td>0</td>\n",
       "      <td>1</td>\n",
       "    </tr>\n",
       "    <tr>\n",
       "      <th>34</th>\n",
       "      <td>4</td>\n",
       "      <td>0</td>\n",
       "      <td>1</td>\n",
       "    </tr>\n",
       "    <tr>\n",
       "      <th>5</th>\n",
       "      <th>6</th>\n",
       "      <td>4</td>\n",
       "      <td>0</td>\n",
       "      <td>1</td>\n",
       "    </tr>\n",
       "    <tr>\n",
       "      <th rowspan=\"2\" valign=\"top\">6</th>\n",
       "      <th>19</th>\n",
       "      <td>4</td>\n",
       "      <td>0</td>\n",
       "      <td>1</td>\n",
       "    </tr>\n",
       "    <tr>\n",
       "      <th>34</th>\n",
       "      <td>4</td>\n",
       "      <td>0</td>\n",
       "      <td>1</td>\n",
       "    </tr>\n",
       "    <tr>\n",
       "      <th rowspan=\"5\" valign=\"top\">7</th>\n",
       "      <th>6</th>\n",
       "      <td>4</td>\n",
       "      <td>0</td>\n",
       "      <td>1</td>\n",
       "    </tr>\n",
       "    <tr>\n",
       "      <th>17</th>\n",
       "      <td>4</td>\n",
       "      <td>0</td>\n",
       "      <td>1</td>\n",
       "    </tr>\n",
       "    <tr>\n",
       "      <th>19</th>\n",
       "      <td>4</td>\n",
       "      <td>0</td>\n",
       "      <td>1</td>\n",
       "    </tr>\n",
       "    <tr>\n",
       "      <th>31</th>\n",
       "      <td>4</td>\n",
       "      <td>0</td>\n",
       "      <td>1</td>\n",
       "    </tr>\n",
       "    <tr>\n",
       "      <th>34</th>\n",
       "      <td>4</td>\n",
       "      <td>0</td>\n",
       "      <td>1</td>\n",
       "    </tr>\n",
       "    <tr>\n",
       "      <th rowspan=\"4\" valign=\"top\">8</th>\n",
       "      <th>6</th>\n",
       "      <td>4</td>\n",
       "      <td>0</td>\n",
       "      <td>1</td>\n",
       "    </tr>\n",
       "    <tr>\n",
       "      <th>17</th>\n",
       "      <td>4</td>\n",
       "      <td>0</td>\n",
       "      <td>1</td>\n",
       "    </tr>\n",
       "    <tr>\n",
       "      <th>31</th>\n",
       "      <td>4</td>\n",
       "      <td>0</td>\n",
       "      <td>1</td>\n",
       "    </tr>\n",
       "    <tr>\n",
       "      <th>44</th>\n",
       "      <td>4</td>\n",
       "      <td>0</td>\n",
       "      <td>1</td>\n",
       "    </tr>\n",
       "    <tr>\n",
       "      <th rowspan=\"4\" valign=\"top\">9</th>\n",
       "      <th>15</th>\n",
       "      <td>4</td>\n",
       "      <td>0</td>\n",
       "      <td>1</td>\n",
       "    </tr>\n",
       "    <tr>\n",
       "      <th>19</th>\n",
       "      <td>4</td>\n",
       "      <td>0</td>\n",
       "      <td>1</td>\n",
       "    </tr>\n",
       "    <tr>\n",
       "      <th>31</th>\n",
       "      <td>4</td>\n",
       "      <td>0</td>\n",
       "      <td>1</td>\n",
       "    </tr>\n",
       "    <tr>\n",
       "      <th>44</th>\n",
       "      <td>4</td>\n",
       "      <td>0</td>\n",
       "      <td>1</td>\n",
       "    </tr>\n",
       "  </tbody>\n",
       "</table>\n",
       "</div>"
      ],
      "text/plain": [
       "res_name             BN  FEC  PF6\n",
       "frame solvated_atom              \n",
       "0     6               4    0    1\n",
       "      18              4    0    1\n",
       "      21              4    0    1\n",
       "      22              4    0    1\n",
       "      34              4    0    1\n",
       "      41              4    0    1\n",
       "      44              4    0    1\n",
       "1     18              4    0    1\n",
       "      19              4    0    1\n",
       "      21              4    0    1\n",
       "      22              4    0    1\n",
       "      34              4    0    1\n",
       "      44              4    0    1\n",
       "2     6               4    0    1\n",
       "      18              4    0    1\n",
       "      21              4    0    1\n",
       "      23              4    0    1\n",
       "      28              4    0    1\n",
       "3     6               4    0    1\n",
       "      18              4    0    1\n",
       "      28              4    0    1\n",
       "      31              4    0    1\n",
       "      34              4    0    1\n",
       "4     6               4    0    1\n",
       "      17              4    0    1\n",
       "      23              4    0    1\n",
       "      31              4    0    1\n",
       "      34              4    0    1\n",
       "5     6               4    0    1\n",
       "6     19              4    0    1\n",
       "      34              4    0    1\n",
       "7     6               4    0    1\n",
       "      17              4    0    1\n",
       "      19              4    0    1\n",
       "      31              4    0    1\n",
       "      34              4    0    1\n",
       "8     6               4    0    1\n",
       "      17              4    0    1\n",
       "      31              4    0    1\n",
       "      44              4    0    1\n",
       "9     15              4    0    1\n",
       "      19              4    0    1\n",
       "      31              4    0    1\n",
       "      44              4    0    1"
      ]
     },
     "execution_count": 16,
     "metadata": {},
     "output_type": "execute_result"
    }
   ],
   "source": [
    "# find all shells matching the given dictionary\n",
    "solution.speciation.find_shells({'BN': 4, 'FEC': 0, 'PF6': 1})"
   ]
  },
  {
   "cell_type": "markdown",
   "id": "70900475-f8de-4c70-8811-f58af9ecbbb4",
   "metadata": {},
   "source": [
    "Awesome! Let's see what we have here by inspecting the data associated with the cluster. I like prime numbers, so lets go with solute 17 in frame 7. To do this, we will use the selection methods in the solution class. Setting `as_df=True` will make the function return a DataFrame instead of an AtomGroup"
   ]
  },
  {
   "cell_type": "code",
   "execution_count": 17,
   "id": "554278b5-8664-41c1-8594-3702c600d48f",
   "metadata": {},
   "outputs": [
    {
     "data": {
      "text/html": [
       "<div>\n",
       "<style scoped>\n",
       "    .dataframe tbody tr th:only-of-type {\n",
       "        vertical-align: middle;\n",
       "    }\n",
       "\n",
       "    .dataframe tbody tr th {\n",
       "        vertical-align: top;\n",
       "    }\n",
       "\n",
       "    .dataframe thead th {\n",
       "        text-align: right;\n",
       "    }\n",
       "</style>\n",
       "<table border=\"1\" class=\"dataframe\">\n",
       "  <thead>\n",
       "    <tr style=\"text-align: right;\">\n",
       "      <th></th>\n",
       "      <th>dist</th>\n",
       "      <th>res_name</th>\n",
       "      <th>res_id</th>\n",
       "    </tr>\n",
       "    <tr>\n",
       "      <th>atom_id</th>\n",
       "      <th></th>\n",
       "      <th></th>\n",
       "      <th></th>\n",
       "    </tr>\n",
       "  </thead>\n",
       "  <tbody>\n",
       "    <tr>\n",
       "      <th>7034</th>\n",
       "      <td>2.062944</td>\n",
       "      <td>PF6</td>\n",
       "      <td>640</td>\n",
       "    </tr>\n",
       "    <tr>\n",
       "      <th>1853</th>\n",
       "      <td>2.113351</td>\n",
       "      <td>BN</td>\n",
       "      <td>155</td>\n",
       "    </tr>\n",
       "    <tr>\n",
       "      <th>3233</th>\n",
       "      <td>2.205047</td>\n",
       "      <td>BN</td>\n",
       "      <td>270</td>\n",
       "    </tr>\n",
       "    <tr>\n",
       "      <th>1601</th>\n",
       "      <td>2.271131</td>\n",
       "      <td>BN</td>\n",
       "      <td>134</td>\n",
       "    </tr>\n",
       "    <tr>\n",
       "      <th>3641</th>\n",
       "      <td>2.427539</td>\n",
       "      <td>BN</td>\n",
       "      <td>304</td>\n",
       "    </tr>\n",
       "  </tbody>\n",
       "</table>\n",
       "</div>"
      ],
      "text/plain": [
       "             dist res_name  res_id\n",
       "atom_id                           \n",
       "7034     2.062944      PF6     640\n",
       "1853     2.113351       BN     155\n",
       "3233     2.205047       BN     270\n",
       "1601     2.271131       BN     134\n",
       "3641     2.427539       BN     304"
      ]
     },
     "execution_count": 17,
     "metadata": {},
     "output_type": "execute_result"
    }
   ],
   "source": [
    "# get the shell DataFrame\n",
    "solution.solvation_shell(17, 7, as_df=True)"
   ]
  },
  {
   "cell_type": "markdown",
   "id": "40e03fdb-3e12-4c46-9c86-047aa180de33",
   "metadata": {},
   "source": [
    "We can see that this matches the desired shell composition and shows us the indexes of the involved Atoms and Residues. Additionally, it shows us the distane of the closest atom of each solvent. If we want to return the AtomGroup instead of the DataFrame that's easy as well."
   ]
  },
  {
   "cell_type": "code",
   "execution_count": 18,
   "id": "31f2f907-dbdb-412e-922b-d4f1ea7912ac",
   "metadata": {},
   "outputs": [
    {
     "data": {
      "text/plain": [
       "<AtomGroup with 56 atoms>"
      ]
     },
     "execution_count": 18,
     "metadata": {},
     "output_type": "execute_result"
    }
   ],
   "source": [
    "# get the shell AtomGroup\n",
    "solution.solvation_shell(17, 7)"
   ]
  },
  {
   "cell_type": "markdown",
   "id": "4d61a55e-fe5f-4972-afd5-e0d63158bfef",
   "metadata": {},
   "source": [
    "## The Core Solvation Data Structure\n",
    "\n",
    "All of the analyses in `solvation_analysis` are built on top of the solvation data, which is collected in a pandas.DataFrame so that it can be parsed with vectorized numpy and pandas operations. Unless you want to design your own analyses, you probably won't have a need to interact with this much, but it still might be useful to take a look at."
   ]
  },
  {
   "cell_type": "code",
   "execution_count": 19,
   "id": "cf10b57b-079d-4068-a2a2-c1712423a905",
   "metadata": {},
   "outputs": [
    {
     "data": {
      "text/html": [
       "<div>\n",
       "<style scoped>\n",
       "    .dataframe tbody tr th:only-of-type {\n",
       "        vertical-align: middle;\n",
       "    }\n",
       "\n",
       "    .dataframe tbody tr th {\n",
       "        vertical-align: top;\n",
       "    }\n",
       "\n",
       "    .dataframe thead th {\n",
       "        text-align: right;\n",
       "    }\n",
       "</style>\n",
       "<table border=\"1\" class=\"dataframe\">\n",
       "  <thead>\n",
       "    <tr style=\"text-align: right;\">\n",
       "      <th></th>\n",
       "      <th></th>\n",
       "      <th></th>\n",
       "      <th>dist</th>\n",
       "      <th>res_name</th>\n",
       "      <th>res_id</th>\n",
       "    </tr>\n",
       "    <tr>\n",
       "      <th>frame</th>\n",
       "      <th>solvated_atom</th>\n",
       "      <th>atom_id</th>\n",
       "      <th></th>\n",
       "      <th></th>\n",
       "      <th></th>\n",
       "    </tr>\n",
       "  </thead>\n",
       "  <tbody>\n",
       "    <tr>\n",
       "      <th rowspan=\"5\" valign=\"top\">0</th>\n",
       "      <th rowspan=\"5\" valign=\"top\">0</th>\n",
       "      <th>4169</th>\n",
       "      <td>2.103129</td>\n",
       "      <td>BN</td>\n",
       "      <td>348</td>\n",
       "    </tr>\n",
       "    <tr>\n",
       "      <th>2309</th>\n",
       "      <td>2.127130</td>\n",
       "      <td>BN</td>\n",
       "      <td>193</td>\n",
       "    </tr>\n",
       "    <tr>\n",
       "      <th>6111</th>\n",
       "      <td>2.176079</td>\n",
       "      <td>FEC</td>\n",
       "      <td>539</td>\n",
       "    </tr>\n",
       "    <tr>\n",
       "      <th>1313</th>\n",
       "      <td>2.316887</td>\n",
       "      <td>BN</td>\n",
       "      <td>110</td>\n",
       "    </tr>\n",
       "    <tr>\n",
       "      <th>2609</th>\n",
       "      <td>2.376575</td>\n",
       "      <td>BN</td>\n",
       "      <td>218</td>\n",
       "    </tr>\n",
       "    <tr>\n",
       "      <th>...</th>\n",
       "      <th>...</th>\n",
       "      <th>...</th>\n",
       "      <td>...</td>\n",
       "      <td>...</td>\n",
       "      <td>...</td>\n",
       "    </tr>\n",
       "    <tr>\n",
       "      <th rowspan=\"5\" valign=\"top\">9</th>\n",
       "      <th rowspan=\"5\" valign=\"top\">48</th>\n",
       "      <th>653</th>\n",
       "      <td>2.018652</td>\n",
       "      <td>BN</td>\n",
       "      <td>55</td>\n",
       "    </tr>\n",
       "    <tr>\n",
       "      <th>4001</th>\n",
       "      <td>2.092055</td>\n",
       "      <td>BN</td>\n",
       "      <td>334</td>\n",
       "    </tr>\n",
       "    <tr>\n",
       "      <th>1469</th>\n",
       "      <td>2.148709</td>\n",
       "      <td>BN</td>\n",
       "      <td>123</td>\n",
       "    </tr>\n",
       "    <tr>\n",
       "      <th>3329</th>\n",
       "      <td>2.184715</td>\n",
       "      <td>BN</td>\n",
       "      <td>278</td>\n",
       "    </tr>\n",
       "    <tr>\n",
       "      <th>1805</th>\n",
       "      <td>2.371709</td>\n",
       "      <td>BN</td>\n",
       "      <td>151</td>\n",
       "    </tr>\n",
       "  </tbody>\n",
       "</table>\n",
       "<p>2308 rows × 3 columns</p>\n",
       "</div>"
      ],
      "text/plain": [
       "                                 dist res_name  res_id\n",
       "frame solvated_atom atom_id                           \n",
       "0     0             4169     2.103129       BN     348\n",
       "                    2309     2.127130       BN     193\n",
       "                    6111     2.176079      FEC     539\n",
       "                    1313     2.316887       BN     110\n",
       "                    2609     2.376575       BN     218\n",
       "...                               ...      ...     ...\n",
       "9     48            653      2.018652       BN      55\n",
       "                    4001     2.092055       BN     334\n",
       "                    1469     2.148709       BN     123\n",
       "                    3329     2.184715       BN     278\n",
       "                    1805     2.371709       BN     151\n",
       "\n",
       "[2308 rows x 3 columns]"
      ]
     },
     "execution_count": 19,
     "metadata": {},
     "output_type": "execute_result"
    }
   ],
   "source": [
    "# the core data structure\n",
    "solution.solvation_data"
   ]
  },
  {
   "cell_type": "markdown",
   "id": "a068ec81-e207-4f62-b003-4f7a68bb5239",
   "metadata": {},
   "source": [
    "As you can see, the solvation data is indexed by the frame, solvated_atom, and atom_id, which provide a unique identifier for each atom involved in solvation. Critically, the solvation only includes atoms within the first solvation radius, because the res_id's are kept, we can determine the molecules involved in solvation. This is a low-memory approach to storing solvation data."
   ]
  }
 ],
 "metadata": {
  "kernelspec": {
   "display_name": "Python 3 (ipykernel)",
   "language": "python",
   "name": "python3"
  },
  "language_info": {
   "codemirror_mode": {
    "name": "ipython",
    "version": 3
   },
   "file_extension": ".py",
   "mimetype": "text/x-python",
   "name": "python",
   "nbconvert_exporter": "python",
   "pygments_lexer": "ipython3",
   "version": "3.8.10"
  }
 },
 "nbformat": 4,
 "nbformat_minor": 5
}
