{
 "cells": [
  {
   "cell_type": "markdown",
   "metadata": {},
   "source": [
    "Solution setup is covered in detail in the `basics_tutorial` so it will not be covered here.\n",
    "\n",
    "If you are new to `solvation_analysis` check there first!"
   ]
  },
  {
   "cell_type": "code",
   "execution_count": 5,
   "metadata": {},
   "outputs": [
    {
     "name": "stderr",
     "output_type": "stream",
     "text": [
      "/Users/orioncohen/projects/development/solvation-analysis/solvation_analysis/solvation_analysis/solution.py:219: FutureWarning: Using a non-tuple sequence for multidimensional indexing is deprecated; use `arr[tuple(seq)]` instead of `arr[seq]`. In the future this will be interpreted as an array index, `arr[np.array(seq)]`, which will result either in an error or a different result.\n",
      "  pairs[:, 1] = solvent.ix[[pairs[:, 1]]]\n"
     ]
    },
    {
     "data": {
      "text/plain": [
       "<solvation_analysis.solution.Solution at 0x7f9694e0d820>"
      ]
     },
     "execution_count": 5,
     "metadata": {},
     "output_type": "execute_result"
    }
   ],
   "source": [
    "# imports\n",
    "import MDAnalysis as mda\n",
    "from solvation_analysis.solution import Solution\n",
    "\n",
    "# define paths to data\n",
    "data = \"../solvation_analysis/tests/data/bn_fec.data\"\n",
    "traj = \"../solvation_analysis/tests/data/bn_fec_short_unwrap.dcd\"\n",
    "\n",
    "# instantiate Universe\n",
    "u = mda.Universe(data, traj)\n",
    "\n",
    "# define solute AtomGroup\n",
    "li_atoms = u.atoms.select_atoms(\"type 22\")\n",
    "\n",
    "# define solvent AtomGroups\n",
    "PF6 = u.atoms.select_atoms(\"byres type 21\")\n",
    "BN = u.atoms.select_atoms(\"byres type 5\")\n",
    "FEC = u.atoms.select_atoms(\"byres type 19\")\n",
    "\n",
    "solution = Solution(li_atoms, {'PF6': PF6, 'BN': BN, 'FEC': FEC}, radii={'PF6': 2.6})\n",
    "\n",
    "solution.run()"
   ]
  },
  {
   "cell_type": "markdown",
   "metadata": {
    "pycharm": {
     "name": "#%%\n"
    }
   },
   "source": [
    "We will be covering the `Residence` and `Clustering` analysis objects. These are not instantiated by default with the solution object because they can be very expensive and we wanted to keep `Solution` fast.\n",
    "\n",
    "That said, `Residence` and `Clustering` are very easy to instantiate and add to your analysis when you have a `Solution`! This tutorial covers that process and outlines the key features that these objects offer.\n",
    "\n",
    "We'll start with `Residence`. We can use the very convenient `from_solution` object to instantiate this."
   ]
  },
  {
   "cell_type": "code",
   "execution_count": 6,
   "metadata": {},
   "outputs": [
    {
     "name": "stderr",
     "output_type": "stream",
     "text": [
      "/Users/orioncohen/miniconda3/envs/solvation_analysis/lib/python3.8/site-packages/pandas/core/apply.py:131: FutureWarning: the 'unbiased'' keyword is deprecated, use 'adjusted' instead\n",
      "  return func(x, *args, **kwargs)\n"
     ]
    }
   ],
   "source": [
    "from solvation_analysis.analysis_library import Residence\n",
    "\n",
    "residence = Residence.from_solution(solution)"
   ]
  },
  {
   "cell_type": "markdown",
   "metadata": {},
   "source": [
    "Now that we instantiated residence, we can view the residence times of all the solvents!"
   ]
  },
  {
   "cell_type": "code",
   "execution_count": 7,
   "metadata": {},
   "outputs": [
    {
     "data": {
      "text/plain": [
       "{'BN': 4.0162910716677525, 'FEC': 3.781299945915387, 'PF6': 1.1529332495408076}"
      ]
     },
     "execution_count": 7,
     "metadata": {},
     "output_type": "execute_result"
    }
   ],
   "source": [
    "residence.residence_times"
   ]
  },
  {
   "cell_type": "markdown",
   "metadata": {},
   "source": [
    "If convenient, we can \"monkey patch\" the residence object directly into our solution!"
   ]
  },
  {
   "cell_type": "code",
   "execution_count": 8,
   "metadata": {},
   "outputs": [
    {
     "data": {
      "text/plain": [
       "<solvation_analysis.analysis_library.Residence at 0x7f9660748e80>"
      ]
     },
     "execution_count": 8,
     "metadata": {},
     "output_type": "execute_result"
    }
   ],
   "source": [
    "solution.residence = residence\n",
    "solution.residence"
   ]
  },
  {
   "cell_type": "markdown",
   "metadata": {},
   "source": [
    "Clustering follows an identical setup pattern."
   ]
  },
  {
   "cell_type": "code",
   "execution_count": null,
   "metadata": {},
   "outputs": [],
   "source": [
    "f"
   ]
  }
 ],
 "metadata": {
  "kernelspec": {
   "display_name": "solvation_analysis",
   "language": "python",
   "name": "solvation_analysis"
  },
  "language_info": {
   "codemirror_mode": {
    "name": "ipython",
    "version": 3
   },
   "file_extension": ".py",
   "mimetype": "text/x-python",
   "name": "python",
   "nbconvert_exporter": "python",
   "pygments_lexer": "ipython3",
   "version": "3.8.12"
  },
  "pycharm": {
   "stem_cell": {
    "cell_type": "raw",
    "metadata": {
     "collapsed": false
    },
    "source": [
     "Setup of the solution is identical to "
    ]
   }
  }
 },
 "nbformat": 4,
 "nbformat_minor": 1
}