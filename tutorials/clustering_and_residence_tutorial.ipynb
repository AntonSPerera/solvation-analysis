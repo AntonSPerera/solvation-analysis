{
 "cells": [
  {
   "cell_type": "code",
   "execution_count": null,
   "metadata": {
    "collapsed": true
   },
   "outputs": [],
   "source": [
    "# imports\n",
    "import MDAnalysis as mda\n",
    "from solvation_analysis.solution import Solution\n",
    "\n",
    "# define paths to data\n",
    "data = \"../solvation_analysis/tests/data/bn_fec.data\"\n",
    "traj = \"../solvation_analysis/tests/data/bn_fec_short_unwrap.dcd\"\n",
    "\n",
    "# instantiate Universe\n",
    "u = mda.Universe(data, traj)\n",
    "\n",
    "# define solute AtomGroup\n",
    "li_atoms = u.atoms.select_atoms(\"type 22\")\n",
    "\n",
    "# define solvent AtomGroups\n",
    "PF6 = u.atoms.select_atoms(\"byres type 21\")\n",
    "BN = u.atoms.select_atoms(\"byres type 5\")\n",
    "FEC = u.atoms.select_atoms(\"byres type 19\")\n",
    "\n",
    "solution = Solution(li_atoms, {'PF6': PF6, 'BN': BN, 'FEC': FEC}, radii={'pf6': 2.6})"
   ]
  },
  {
   "cell_type": "code",
   "execution_count": null,
   "outputs": [],
   "source": [],
   "metadata": {
    "collapsed": false,
    "pycharm": {
     "name": "#%%\n"
    }
   }
  }
 ],
 "metadata": {
  "kernelspec": {
   "display_name": "Python 3",
   "language": "python",
   "name": "python3"
  },
  "language_info": {
   "codemirror_mode": {
    "name": "ipython",
    "version": 2
   },
   "file_extension": ".py",
   "mimetype": "text/x-python",
   "name": "python",
   "nbconvert_exporter": "python",
   "pygments_lexer": "ipython2",
   "version": "2.7.6"
  }
 },
 "nbformat": 4,
 "nbformat_minor": 0
}